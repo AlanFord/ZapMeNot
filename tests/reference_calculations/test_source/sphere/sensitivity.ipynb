{
 "cells": [
  {
   "cell_type": "markdown",
   "id": "80b0f979-7e8b-4145-b161-5abdef0c736b",
   "metadata": {},
   "source": [
    "# ZapMeNot Spherical Source Sensitivity Analysis\n",
    "\n",
    "The objective is to evaluate the accuracy of the spherical source quadrature for both on-axis and off-axis shielding configurations.  Tests are run with quadratures ranging from 1 to 30 and a source of 1 MeV photons in a 10 cm radius void sphere.  The detector is 20 cm from the center of the sphere.\n",
    "\n",
    "For this test \"on-axis\" means the detector is aligned with the z-axis of the sphere.  \"off-axis\" means the detector is alignment is orthogonal with the z-axis."
   ]
  },
  {
   "cell_type": "code",
   "execution_count": 64,
   "id": "3ea0173d-ceda-449a-886d-ff657491fe59",
   "metadata": {},
   "outputs": [],
   "source": [
    "import sys\n",
    "sys.path.append('/Users/alan/Desktop/github/ZapMeNot')"
   ]
  },
  {
   "cell_type": "code",
   "execution_count": 65,
   "id": "bfed5853-628e-4edc-9d2a-e9347f0279b3",
   "metadata": {},
   "outputs": [],
   "source": [
    "from zapmenot import model, source, shield, detector, material\n",
    "import math\n",
    "import numpy as np\n"
   ]
  },
  {
   "cell_type": "markdown",
   "id": "49060bc0-7804-4d36-b80d-8d2e12fb3b18",
   "metadata": {},
   "source": [
    "### On-Axis Model"
   ]
  },
  {
   "cell_type": "code",
   "execution_count": 66,
   "id": "a053dd44-f7ba-41c6-9caa-9853aedde33f",
   "metadata": {},
   "outputs": [],
   "source": [
    "def test_sphere(nodes):\n",
    "    myModel = model.Model()\n",
    "    mySource = source.SphereSource(\"air\", sphere_radius=10,\n",
    "                                   sphere_center=[4, 5, 6], density=0)\n",
    "    mySource.points_per_dimension = [nodes, nodes, nodes]\n",
    "    photonEnergy = 1.0  # MeV\n",
    "    photonIntensity = 1  # photons/sec\n",
    "    mySource.add_photon(photonEnergy, photonIntensity)\n",
    "    myModel.add_source(mySource)\n",
    "    myModel.add_detector(detector.Detector(4, 5, 26))\n",
    "    return myModel.calculate_exposure()"
   ]
  },
  {
   "cell_type": "code",
   "execution_count": 67,
   "id": "97f09b70-7f79-4929-a24f-ba0c28b72942",
   "metadata": {},
   "outputs": [],
   "source": [
    "onAxisResults = []\n",
    "for i in range(1, 30):\n",
    "    onAxisResults.append(test_sphere(i))"
   ]
  },
  {
   "cell_type": "markdown",
   "id": "88c7faab-7239-4edb-899f-474ce1565bce",
   "metadata": {},
   "source": [
    "### Off-Axis Model"
   ]
  },
  {
   "cell_type": "code",
   "execution_count": 68,
   "id": "d2d834bb-867a-4849-921a-5d7f1e241c2f",
   "metadata": {},
   "outputs": [],
   "source": [
    "def test_sphere_side(nodes):\n",
    "    myModel = model.Model()\n",
    "    mySource = source.SphereSource(\"air\", sphere_radius=10,\n",
    "                                   sphere_center=[4, 5, 6], density=0)\n",
    "    mySource.points_per_dimension = [nodes, nodes, nodes]\n",
    "    photonEnergy = 1.0  # MeV\n",
    "    photonIntensity = 1  # photons/sec\n",
    "    mySource.add_photon(photonEnergy, photonIntensity)\n",
    "    myModel.add_source(mySource)\n",
    "    myModel.add_detector(detector.Detector(24, 5, 6))\n",
    "    return myModel.calculate_exposure()"
   ]
  },
  {
   "cell_type": "code",
   "execution_count": 69,
   "id": "1bf32be9-f223-4ec0-ae80-2f67315b8a1c",
   "metadata": {},
   "outputs": [],
   "source": [
    "offAxisResults = []\n",
    "for i in range(1, 30):\n",
    "    offAxisResults.append(test_sphere_side(i))"
   ]
  },
  {
   "cell_type": "markdown",
   "id": "2de1f995-4f02-4c00-a56d-e5f925d03578",
   "metadata": {},
   "source": [
    "### Now for an analytical solution"
   ]
  },
  {
   "cell_type": "code",
   "execution_count": 70,
   "id": "ae47703d-5deb-429f-a4ad-0f8a6bf46f0a",
   "metadata": {},
   "outputs": [],
   "source": [
    "R=10\n",
    "a=10\n",
    "volume = 4/3*math.pi*(R**3)\n",
    "Sv = 1/volume # 1 Bq total\n",
    "uncollidedFlux = Sv/4/(a+R)\n",
    "uncollidedFlux = uncollidedFlux * (2*R*(a+R) - a*(a+2*R)*math.log((a+2*R)/a))"
   ]
  },
  {
   "cell_type": "code",
   "execution_count": 71,
   "id": "8efa6b58-e4f7-456f-aa9e-8c4ae127796d",
   "metadata": {},
   "outputs": [],
   "source": [
    "airMassEnAbsCoeff = 2.787E-02 # @ 1MeV (ANS 6.4.3 Table 2)\n",
    "uncollidedEnergyFlux = uncollidedFlux * 1; # 1 MeV\n",
    "uncollidedExposure = uncollidedEnergyFlux * 1.835E-8 * airMassEnAbsCoeff * 1000 * 3600  # mR/hr;"
   ]
  },
  {
   "cell_type": "code",
   "execution_count": 72,
   "id": "6106b65d-1d10-442f-9555-967378e08bd2",
   "metadata": {},
   "outputs": [
    {
     "name": "stdout",
     "output_type": "stream",
     "text": [
      "uncollided flux:  0.00021013320659717179 photons/cm2/sec\n",
      "uncollided energy flux:  0.00021013320659717179 MeV/cm2/sec\n",
      "uncollided exposure:  3.8687460762704145e-07 mR/hr\n"
     ]
    }
   ],
   "source": [
    "print(\"uncollided flux: \", uncollidedFlux, \"photons/cm2/sec\")\n",
    "print(\"uncollided energy flux: \", uncollidedEnergyFlux, \"MeV/cm2/sec\")\n",
    "print(\"uncollided exposure: \", uncollidedExposure, \"mR/hr\")\n"
   ]
  },
  {
   "cell_type": "markdown",
   "id": "68c7eb28-81d6-4c39-97c3-7d00b145bda0",
   "metadata": {},
   "source": [
    "3.868745387518610e-07 mR/hr is the result provided by Matlab using a (10,10,10) quadrature.  Hence a (10, 10, 10) \"on-axis\" quadrature appears to be converged and validates the analytical solution.\n",
    "\n",
    "Next, determine the relative error in on-axis and off-axis results as a funtion of quadrature."
   ]
  },
  {
   "cell_type": "code",
   "execution_count": 73,
   "id": "b815207e-a9e5-45f4-bf31-2f3681af6f3d",
   "metadata": {},
   "outputs": [],
   "source": [
    "onAxisError = (np.array(onAxisResults) - uncollidedExposure)/uncollidedExposure"
   ]
  },
  {
   "cell_type": "code",
   "execution_count": 74,
   "id": "56abc47f-95ff-4f17-99ae-d26f217f50dc",
   "metadata": {},
   "outputs": [],
   "source": [
    "offAxisError = (np.array(offAxisResults) - uncollidedExposure)/uncollidedExposure"
   ]
  },
  {
   "cell_type": "code",
   "execution_count": 75,
   "id": "b111a065-5e21-481c-9306-b3ca2f797698",
   "metadata": {},
   "outputs": [
    {
     "data": {
      "text/plain": [
       "array([-1.69972329e-01, -3.38506085e-02, -6.89694036e-03, -1.44861939e-03,\n",
       "       -3.11579803e-04, -6.82763652e-05, -1.51847162e-05, -3.41776007e-06,\n",
       "       -7.76857434e-07, -1.78029727e-07, -4.10810876e-08, -9.53572802e-09,\n",
       "       -2.22474250e-09, -5.21357244e-10, -1.22654874e-10, -2.89554196e-11,\n",
       "       -6.85563711e-12, -1.62633228e-12, -3.86433517e-13, -9.26400463e-14,\n",
       "       -2.32626409e-14, -4.78936724e-15,  0.00000000e+00,  1.50522970e-15,\n",
       "       -2.46310315e-15, -1.09471251e-15, -1.77890783e-15,  3.42097660e-15,\n",
       "       -1.36839064e-16])"
      ]
     },
     "execution_count": 75,
     "metadata": {},
     "output_type": "execute_result"
    }
   ],
   "source": [
    "onAxisError"
   ]
  },
  {
   "cell_type": "code",
   "execution_count": 76,
   "id": "442a4f25-b60b-480e-9b39-8a6dd0239353",
   "metadata": {},
   "outputs": [
    {
     "data": {
      "text/plain": [
       "array([1.42368080e+00, 1.77809360e-01, 8.52373957e-02, 2.79065762e-02,\n",
       "       1.17090690e-02, 4.68433966e-03, 1.99446732e-03, 8.51185956e-04,\n",
       "       3.71503340e-04, 1.63527776e-04, 7.28239248e-05, 3.26811964e-05,\n",
       "       1.47791105e-05, 6.72481813e-06, 3.07734769e-06, 1.41516794e-06,\n",
       "       6.53690007e-07, 3.03152535e-07, 1.41096518e-07, 6.58856743e-08,\n",
       "       3.08576289e-08, 1.44917782e-08, 6.82296582e-09, 3.21982851e-09,\n",
       "       1.52273580e-09, 7.21576742e-10, 3.42568113e-10, 1.62918127e-10,\n",
       "       7.76048542e-11])"
      ]
     },
     "execution_count": 76,
     "metadata": {},
     "output_type": "execute_result"
    }
   ],
   "source": [
    "offAxisError"
   ]
  },
  {
   "cell_type": "markdown",
   "id": "86681e2b-07d7-4934-a935-58831140a7ca",
   "metadata": {},
   "source": [
    "The on-axis model appears to be closer to the analytical model for all quadrature levels.  Both models achieve an relative accuracy of 1e-4 by using at least a quadrature of 11."
   ]
  },
  {
   "cell_type": "code",
   "execution_count": 77,
   "id": "405cb762",
   "metadata": {},
   "outputs": [],
   "source": [
    "# double the number of \"Z\" nodes\n",
    "def test_sphere_side2(nodes):\n",
    "    myModel = model.Model()\n",
    "    mySource = source.SphereSource(\"air\", sphere_radius=10,\n",
    "                                   sphere_center=[4, 5, 6], density=0)\n",
    "    mySource.points_per_dimension = [nodes, nodes, nodes*2]\n",
    "    photonEnergy = 1.0  # MeV\n",
    "    photonIntensity = 1  # photons/sec\n",
    "    mySource.add_photon(photonEnergy, photonIntensity)\n",
    "    myModel.add_source(mySource)\n",
    "    myModel.add_detector(detector.Detector(24, 5, 6))\n",
    "    return myModel.calculate_exposure()"
   ]
  },
  {
   "cell_type": "code",
   "execution_count": 78,
   "id": "22996a33",
   "metadata": {},
   "outputs": [],
   "source": [
    "offAxisResults = []\n",
    "for i in range(1, 30):\n",
    "    offAxisResults.append(test_sphere_side2(i))"
   ]
  },
  {
   "cell_type": "code",
   "execution_count": 79,
   "id": "91f69ca2",
   "metadata": {},
   "outputs": [],
   "source": [
    "offAxisError = (np.array(offAxisResults) - uncollidedExposure)/uncollidedExposure"
   ]
  },
  {
   "cell_type": "code",
   "execution_count": 80,
   "id": "e44a4cac",
   "metadata": {},
   "outputs": [
    {
     "data": {
      "text/plain": [
       "array([ 4.62220647e-01,  1.90249079e-03,  8.49636735e-03,  2.43419301e-04,\n",
       "        2.72973744e-04,  1.16838824e-05,  1.09496608e-05,  5.37127536e-07,\n",
       "        4.90024118e-07,  2.53994629e-08,  2.33857134e-08,  1.24418100e-09,\n",
       "        1.16447225e-09,  6.28631818e-11,  5.97778714e-11,  3.25936967e-12,\n",
       "        3.14168807e-12,  1.73648772e-13,  1.68585727e-13,  9.30505635e-15,\n",
       "        8.75770010e-15,  1.23155158e-15,  8.21034384e-16,  1.23155158e-15,\n",
       "       -1.09471251e-15, -1.23155158e-15, -6.84195320e-16,  2.05258596e-15,\n",
       "        6.84195320e-16])"
      ]
     },
     "execution_count": 80,
     "metadata": {},
     "output_type": "execute_result"
    }
   ],
   "source": [
    "offAxisError"
   ]
  },
  {
   "cell_type": "markdown",
   "id": "6bb48e0c",
   "metadata": {},
   "source": [
    "These results are noticeably improved and are closer to the on-axis results."
   ]
  }
 ],
 "metadata": {
  "kernelspec": {
   "display_name": "zapmenot-current",
   "language": "python",
   "name": "python3"
  },
  "language_info": {
   "codemirror_mode": {
    "name": "ipython",
    "version": 3
   },
   "file_extension": ".py",
   "mimetype": "text/x-python",
   "name": "python",
   "nbconvert_exporter": "python",
   "pygments_lexer": "ipython3",
   "version": "3.10.16"
  }
 },
 "nbformat": 4,
 "nbformat_minor": 5
}
