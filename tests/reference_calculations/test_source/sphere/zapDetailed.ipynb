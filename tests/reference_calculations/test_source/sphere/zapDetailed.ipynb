{
 "cells": [
  {
   "cell_type": "markdown",
   "id": "3aa6814f-cfa8-4e74-9929-ffbf004d20e3",
   "metadata": {},
   "source": [
    "## Detailed Evaluation of ZapMeNot Sphere Calculations"
   ]
  },
  {
   "cell_type": "markdown",
   "id": "d2f05499-fbf1-4b98-8b4c-257768f26583",
   "metadata": {},
   "source": [
    "The objective of this notebook is to examine the details of a void sphere source calculation.\n",
    "Various results can be saved to a file for comparison against matlab or octave."
   ]
  },
  {
   "cell_type": "code",
   "execution_count": 1,
   "id": "721bc568-c92b-4e99-bb94-211152674353",
   "metadata": {},
   "outputs": [],
   "source": [
    "import math\n",
    "import sys\n",
    "from pathlib import Path\n",
    "\n",
    "import pytest\n",
    "import numpy as np\n",
    "import pandas as pd\n",
    "\n",
    "sys.path.insert(1,'../../../..')\n",
    "from zapmenot import model, source, shield, detector, material\n"
   ]
  },
  {
   "cell_type": "code",
   "execution_count": 2,
   "id": "80deeaea-dabf-4791-a56c-41acdb10a2c7",
   "metadata": {},
   "outputs": [
    {
     "name": "stdout",
     "output_type": "stream",
     "text": [
      "final dose is  3.8687453875186077e-07\n"
     ]
    }
   ],
   "source": [
    "# spherical source with no shielding\n",
    "# air density of 1E-10 g/cm3, similating void\n",
    "# 10 cm radius with radial and angular quadratures of 10\n",
    "# dose point is 20 cm from sphere origin\n",
    "# sphere center located at coordinates [4, 5, 6], so\n",
    "#   dose point is at [4, 5, 26] for dose point on the Z axis\n",
    "#   and [24, 5, 6] for dose point on the X axis\n",
    "# Source is 1 Bq of 1 MeV photons\n",
    "#\n",
    "# Microshield dose (unknown quadrature method) result is 3.875e-07 mR/hr.\n",
    "# Matlab dose result is 3.868745387518610e-07 mR/hr.\n",
    "myModel = model.Model()\n",
    "mySource = source.SphereSource(\"air\", sphere_radius=10,\n",
    "                               sphere_center=[4, 5, 6], density=0)\n",
    "mySource.points_per_dimension = [10, 10, 10]\n",
    "photonEnergy = 1.0  # MeV\n",
    "photonIntensity = 1  # photons/sec\n",
    "mySource.add_photon(photonEnergy, photonIntensity)\n",
    "myModel.add_source(mySource)\n",
    "myModel.add_detector(detector.Detector(4, 5, 26))\n",
    "result = myModel.calculate_exposure()\n",
    "print(\"final dose is \",result)\n",
    "# assert result == pytest.approx(3.868745387518610e-07)"
   ]
  },
  {
   "cell_type": "code",
   "execution_count": 3,
   "id": "47389314-8aa4-4b33-9cb3-35877dad5361",
   "metadata": {},
   "outputs": [
    {
     "ename": "AttributeError",
     "evalue": "'Model' object has no attribute 'long_list'",
     "output_type": "error",
     "traceback": [
      "\u001b[31m---------------------------------------------------------------------------\u001b[39m",
      "\u001b[31mAttributeError\u001b[39m                            Traceback (most recent call last)",
      "\u001b[36mCell\u001b[39m\u001b[36m \u001b[39m\u001b[32mIn[3]\u001b[39m\u001b[32m, line 1\u001b[39m\n\u001b[32m----> \u001b[39m\u001b[32m1\u001b[39m \u001b[43mmyModel\u001b[49m\u001b[43m.\u001b[49m\u001b[43mlong_list\u001b[49m\n",
      "\u001b[31mAttributeError\u001b[39m: 'Model' object has no attribute 'long_list'"
     ]
    }
   ],
   "source": [
    "myModel.long_list"
   ]
  },
  {
   "cell_type": "code",
   "execution_count": 4,
   "id": "c9c5fc6f-4815-42c5-a946-ae47657c53d0",
   "metadata": {},
   "outputs": [
    {
     "ename": "AttributeError",
     "evalue": "'Model' object has no attribute 'collided_point_exposure'",
     "output_type": "error",
     "traceback": [
      "\u001b[31m---------------------------------------------------------------------------\u001b[39m",
      "\u001b[31mAttributeError\u001b[39m                            Traceback (most recent call last)",
      "\u001b[36mCell\u001b[39m\u001b[36m \u001b[39m\u001b[32mIn[4]\u001b[39m\u001b[32m, line 1\u001b[39m\n\u001b[32m----> \u001b[39m\u001b[32m1\u001b[39m \u001b[43mmyModel\u001b[49m\u001b[43m.\u001b[49m\u001b[43mcollided_point_exposure\u001b[49m\n",
      "\u001b[31mAttributeError\u001b[39m: 'Model' object has no attribute 'collided_point_exposure'"
     ]
    }
   ],
   "source": [
    "myModel.collided_point_exposure"
   ]
  },
  {
   "cell_type": "code",
   "execution_count": null,
   "id": "fadcd4d2-932e-4f47-b76d-88ab82ed17f4",
   "metadata": {},
   "outputs": [],
   "source": []
  },
  {
   "cell_type": "code",
   "execution_count": null,
   "id": "54a6c2e4-c8de-4f1e-8925-e7aee75c0032",
   "metadata": {},
   "outputs": [],
   "source": []
  }
 ],
 "metadata": {
  "kernelspec": {
   "display_name": "Python 3 (ipykernel)",
   "language": "python",
   "name": "python3"
  },
  "language_info": {
   "codemirror_mode": {
    "name": "ipython",
    "version": 3
   },
   "file_extension": ".py",
   "mimetype": "text/x-python",
   "name": "python",
   "nbconvert_exporter": "python",
   "pygments_lexer": "ipython3",
   "version": "3.13.5"
  }
 },
 "nbformat": 4,
 "nbformat_minor": 5
}
