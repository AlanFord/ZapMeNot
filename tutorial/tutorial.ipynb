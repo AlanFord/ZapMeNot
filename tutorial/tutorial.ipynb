{
 "cells": [
  {
   "cell_type": "markdown",
   "id": "16f0bd63-25f8-4cdd-9251-e32665c8d648",
   "metadata": {
    "tags": []
   },
   "source": [
    "# **Purpose**\n",
    "This notebook is a tutorial for ZapMeNot."
   ]
  },
  {
   "cell_type": "markdown",
   "id": "15c0baec-8c9e-49b1-849f-253918b1ce51",
   "metadata": {
    "tags": []
   },
   "source": [
    "# **Configure for the Tutorial**\n",
    "This step won't be required for production work.  The module search path is being altered to preferentially run\n",
    "the \"nightly builds\" of both WatpropPy and ZapMeNot."
   ]
  },
  {
   "cell_type": "code",
   "execution_count": 1,
   "id": "af8f7830-2a87-4b73-987a-dfc5dd0a1924",
   "metadata": {
    "tags": []
   },
   "outputs": [],
   "source": [
    "import sys\n",
    "# sys.path.insert(0,'/home/alan025/bin/WatpropPy')\n",
    "# sys.path.insert(0,'/home/alan025/bin/ZapMeNot')\n",
    "sys.path.insert(0,'/Users/alan/Desktop/github/WatpropPy')\n",
    "sys.path.insert(0,'/Users/alan/Desktop/github/ZapMeNot')\n",
    "\n"
   ]
  },
  {
   "cell_type": "markdown",
   "id": "95307531-80eb-4d43-800b-7fac0fa33255",
   "metadata": {
    "tags": []
   },
   "source": [
    "# **Import packages**\n",
    "The Python packages required by this notebook are imported. The package and Python interpreter versions are printed to ensure analysis reproducibility. "
   ]
  },
  {
   "cell_type": "code",
   "execution_count": 2,
   "id": "0661b3e5-7ffc-4101-b1fc-0db83f9864a5",
   "metadata": {},
   "outputs": [],
   "source": [
    "from IPython.display import display, Markdown, Math, Latex, Javascript, HTML\n",
    "from scipy import interpolate\n",
    "import numpy as np\n",
    "import matplotlib.pyplot as plt\n",
    "import math\n",
    "from zap_me_not import model,source,shield,detector,material\n",
    "import WatpropPy"
   ]
  },
  {
   "cell_type": "markdown",
   "id": "2ab16a25-d66f-43f1-a851-2eb6b512c1ff",
   "metadata": {},
   "source": [
    "# **Problem Descripton**\n",
    "ESIS benchmark shielding problem \\#1.\n",
    "\n",
    "The source is a water-filled tank 108.3 cm high and 308 cm in diameter.\n",
    "The tank wall is steel with a thickness of 2.54 cm.\n",
    "Uniformly distributed in the water is the following source:\n",
    "|  Energy<br>(MeV)     |     Source<br>(photons/sec/cm<sup>3</sup>) |\n",
    "| :----:     |     :----:              |\n",
    "|  0.4       |     4.0E+6            |\n",
    "|  0.8       |     7.0E+6            |\n",
    "|  1.3       |     2.8E+6            |\n",
    "|  1.7       |     8.2E+6            |\n",
    "|  2.2       |     4.0E+4            |\n",
    "|  2.5       |     3.0E+4            |\n",
    "|  3.5       |     1.2E+1            |\n",
    "  \n",
    "The  detector location is 311 cm from the tank centerline\n",
    "at the vertical centerline of the tank.\n",
    "A concrete shield wall between tank and detector starts at\n",
    "x = 220 cm and ends at x=320 cm.\n",
    "The water density is 1 g/cm<sup>3</sup> and the air density is 0.00122 g/cm3.\n",
    "The the steel density is 7.8 g/cm<sup>3</sup>.\n",
    "The concrete density is 2.4 g/cm<sup>3</sup>.  \n",
    "The buildup material is concrete.\n",
    "\n",
    "Benchmark acceptable results are 0.49E-3 to 2.46E-3 R/hr.\n"
   ]
  },
  {
   "cell_type": "markdown",
   "id": "197c5138-cb0b-4eda-ba92-05dfca5a0c7d",
   "metadata": {
    "tags": []
   },
   "source": [
    "# **Model Construction**"
   ]
  },
  {
   "cell_type": "code",
   "execution_count": 3,
   "id": "23fb681e-13ef-422e-b76f-efd986819784",
   "metadata": {
    "tags": []
   },
   "outputs": [],
   "source": [
    "ESIS_model = model.Model()\n",
    "my_source = source.ZAlignedCylinderSource(material_name=\"water\", cylinder_radius=154, \\\n",
    "       cylinder_center=[0,0,54.15], cylinder_length=108.3)\n",
    "my_source.add_photon(0.4,3.2276e+013)\n",
    "my_source.add_photon(0.8,5.6483e+013)\n",
    "my_source.add_photon(1.3,2.2593e+013)\n",
    "my_source.add_photon(1.7,6.6166e+013)\n",
    "my_source.add_photon(2.2,3.2276e+011)\n",
    "my_source.add_photon(2.5,2.4207e+011)\n",
    "my_source.add_photon(3.5,9.6828e+007)\n",
    "my_source.points_per_dimension = [16,16,16]\n",
    "ESIS_model.add_source(my_source)\n",
    "ESIS_model.add_shield(shield.ZAlignedInfiniteAnnulus(\"iron\", cylinder_inner_radius=154, \\\n",
    "       cylinder_center=[0,0,54.15], cylinder_outer_radius=154+2.54, density=7.8))\n",
    "ESIS_model.add_shield(shield.SemiInfiniteXSlab(\"concrete\", x_start=220, \\\n",
    "       x_end=311, density=2.4))\n",
    "ESIS_model.set_filler_material('air',density=0.00129)\n",
    "ESIS_model.set_buildup_factor_material(material.Material('concrete'))\n",
    "ESIS_model.add_detector(detector.Detector(311, 0, 54.15))"
   ]
  },
  {
   "cell_type": "markdown",
   "id": "ad28ed7e-d892-4c76-999e-696ccdbaf435",
   "metadata": {
    "tags": []
   },
   "source": [
    "# **Calculate Dose Rate**"
   ]
  },
  {
   "cell_type": "code",
   "execution_count": 6,
   "id": "ca8c6c72-f89e-41df-9ec3-34a72de37579",
   "metadata": {
    "tags": []
   },
   "outputs": [
    {
     "data": {
      "text/markdown": [
       "**dose rate = 1.88 mR/hr**"
      ],
      "text/plain": [
       "<IPython.core.display.Markdown object>"
      ]
     },
     "metadata": {},
     "output_type": "display_data"
    }
   ],
   "source": [
    "result = ESIS_model.calculate_exposure()\n",
    "display(Markdown(f\"**dose rate = {result:2.3} mR/hr**\"))"
   ]
  },
  {
   "cell_type": "markdown",
   "id": "01abe34b-dd72-4d5d-a00a-59e71dfce961",
   "metadata": {},
   "source": [
    "# **Plot the Geometry**"
   ]
  },
  {
   "cell_type": "code",
   "execution_count": 5,
   "id": "50fd58ba-7e11-4c84-9f1c-27ec65409e72",
   "metadata": {},
   "outputs": [
    {
     "data": {
      "application/vnd.jupyter.widget-view+json": {
       "model_id": "87b100e4b70e4590b0c456fe82728173",
       "version_major": 2,
       "version_minor": 0
      },
      "text/plain": [
       "ViewInteractiveWidget(height=768, layout=Layout(height='auto', width='100%'), width=1024)"
      ]
     },
     "metadata": {},
     "output_type": "display_data"
    }
   ],
   "source": [
    "ESIS_model.display()\n"
   ]
  },
  {
   "cell_type": "code",
   "execution_count": null,
   "id": "b8adfb71-5b73-4b6c-ad49-12dcf87225de",
   "metadata": {},
   "outputs": [],
   "source": []
  }
 ],
 "metadata": {
  "kernelspec": {
   "display_name": "Python 3 (ipykernel)",
   "language": "python",
   "name": "python3"
  },
  "language_info": {
   "codemirror_mode": {
    "name": "ipython",
    "version": 3
   },
   "file_extension": ".py",
   "mimetype": "text/x-python",
   "name": "python",
   "nbconvert_exporter": "python",
   "pygments_lexer": "ipython3",
   "version": "3.10.4"
  }
 },
 "nbformat": 4,
 "nbformat_minor": 5
}
