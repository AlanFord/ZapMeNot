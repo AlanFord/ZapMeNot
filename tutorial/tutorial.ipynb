{
 "cells": [
  {
   "cell_type": "markdown",
   "id": "16f0bd63-25f8-4cdd-9251-e32665c8d648",
   "metadata": {
    "tags": []
   },
   "source": [
    "# **Purpose**\n",
    "This notebook is a tutorial for ZapMeNot."
   ]
  },
  {
   "cell_type": "markdown",
   "id": "15c0baec-8c9e-49b1-849f-253918b1ce51",
   "metadata": {
    "tags": []
   },
   "source": [
    "# **Configure for the Tutorial**\n",
    "This step won't be required for production work.  The module search path is being altered to preferentially run\n",
    "the \"nightly builds\" of both WatpropPy and ZapMeNot."
   ]
  },
  {
   "cell_type": "code",
   "execution_count": 3,
   "id": "af8f7830-2a87-4b73-987a-dfc5dd0a1924",
   "metadata": {
    "tags": []
   },
   "outputs": [],
   "source": [
    "import sys\n",
    "sys.path.insert(0,'/home/alan025/bin/WatpropPy')\n",
    "sys.path.insert(0,'/home/alan025/bin/ZapMeNot')\n"
   ]
  },
  {
   "cell_type": "markdown",
   "id": "95307531-80eb-4d43-800b-7fac0fa33255",
   "metadata": {
    "tags": []
   },
   "source": [
    "# **Import packages**\n",
    "The Python packages required by this notebook are imported. The package and Python interpreter versions are printed to ensure analysis reproducibility. "
   ]
  },
  {
   "cell_type": "code",
   "execution_count": 5,
   "id": "0661b3e5-7ffc-4101-b1fc-0db83f9864a5",
   "metadata": {},
   "outputs": [],
   "source": [
    "from IPython.display import display, Markdown, Math, Latex, Javascript, HTML\n",
    "from scipy import interpolate\n",
    "import numpy as np\n",
    "import matplotlib.pyplot as plt\n",
    "import math\n",
    "import zap_me_not\n",
    "# import WatpropPy"
   ]
  },
  {
   "cell_type": "markdown",
   "id": "2ab16a25-d66f-43f1-a851-2eb6b512c1ff",
   "metadata": {},
   "source": []
  },
  {
   "cell_type": "markdown",
   "id": "84944b7c-bfe8-46b4-a4bb-06b50a5ba2f7",
   "metadata": {
    "tags": []
   },
   "source": [
    "# **Overpower Trip High Range Uncertainty**\n",
    "Calculation EE-0063 Rev. 2 defines the Channel Statistical Accuracy (CSA) as\n",
    "\n",
    "${\\scriptstyle CSA = SE \\pm \\sqrt{EA^{2} + PMA_{1}^2 + PMA_{2}^2 + PMA_{3}^2 + (M1 + M1MTE)^2 + (M5 + M5MTE)^2 + RD^2 + RTE^2 + RRA^2}}$\n",
    "\n",
    "The same reference defines each term in units of % of span\n",
    "\n",
    "* SE = 0.000% of span\n",
    "* EA = 0.000% of span\n",
    "* PMA<sub>1</sub> = 1.667% of span\n",
    "* PMA<sub>2</sub> = 4.167% of span\n",
    "* PMA<sub>3</sub> = 1.667% of span\n",
    "* M1 = 0.100% of span\n",
    "* M1MTE = 0.110% of span\n",
    "* M5 = 0.833% of span\n",
    "* M5MTE = 0.943% of span\n",
    "* RD = 1.000% of span\n",
    "* RTE = 0.5% of span\n",
    "* RRA = 0.417% of span\n",
    "\n",
    "As shown in EE-0063 Rev. 2, values can be converted to %RTP by multiplying by the factor 120%/100%."
   ]
  },
  {
   "cell_type": "code",
   "execution_count": null,
   "id": "bd1877fe-68fb-420c-8cd0-69d7e44032db",
   "metadata": {
    "tags": []
   },
   "outputs": [],
   "source": [
    "factor = 120./100.\n",
    "SE = 0 * factor\n",
    "EA = 0 * factor\n",
    "PMA1 = 1.667 * factor\n",
    "PMA2 = 4.167 * factor\n",
    "PMA3 = 1.667 * factor\n",
    "M1 = 0.1 * factor\n",
    "M1MTE = 0.11 * factor\n",
    "M5 = 0.833 * factor\n",
    "M5MTE = 0.943 * factor\n",
    "RD = 1 * factor\n",
    "RTE = 0.5 * factor\n",
    "RRA = 0.417 * factor\n",
    "display(Markdown(f\"**SE = {SE:2.3} %RTP**\"))\n",
    "display(Markdown(f\"**EA = {EA:2.3} %RTP**\"))\n",
    "display(Markdown(f\"**PMA1 = {PMA1:2.3} %RTP**\"))\n",
    "display(Markdown(f\"**PMA2 = {PMA2:2.3} %RTP**\"))\n",
    "display(Markdown(f\"**PMA3 = {PMA3:2.3} %RTP**\"))\n",
    "display(Markdown(f\"**M1 = {M1:2.3} %RTP**\"))\n",
    "display(Markdown(f\"**M1MTE = {M1MTE:2.3} %RTP**\"))\n",
    "display(Markdown(f\"**M5 = {M5:2.3} %RTP**\"))\n",
    "display(Markdown(f\"**M5MTE = {M5MTE:2.3} %RTP**\"))\n",
    "display(Markdown(f\"**RD = {RD:2.3} %RTP**\"))\n",
    "display(Markdown(f\"**RTE = {RTE:2.3} %RTP**\"))\n",
    "display(Markdown(f\"**RRA = {RRA:2.3} %RTP**\"))\n"
   ]
  },
  {
   "cell_type": "markdown",
   "id": "96643de8-47d8-43eb-b52a-8c0ba0b74382",
   "metadata": {},
   "source": [
    "# **Calorimetric Uncertainty**\n",
    "A revised calorimetric uncertatinty as a function of power, PMA<sub>1</sub>, is defined in Calculation SM-1128, Rev. 1, Addendum B.  The following work fits a cubic spline to the data and plots the results to ensure the spline reasonably represents the original data.  The spline function PMA1( ) will be used in subsequent calculations."
   ]
  },
  {
   "cell_type": "code",
   "execution_count": null,
   "id": "572242da-c04a-4ec7-9de2-ab05222ae304",
   "metadata": {},
   "outputs": [],
   "source": [
    "calorimetric_power_levels = [101.7, 100, 95, 90, 85, 80, 75, 70, 65, \n",
    "                             60, 55, 50, 45, 40, 35, 30, 25, 20]\n",
    "calorimetric_uncertainties = [0.782, 0.791, 0.822, 0.862, 0.911, 0.971, 1.044, 1.132, \n",
    "                              1.236, 1.362, 1.514, 1.7, 1.929, 2.219, 2.596, 3.102, \n",
    "                              3.822, 4.941]\n",
    "# create the interpolation function PMA1( )\n",
    "PMA1 = interpolate.interp1d(calorimetric_power_levels, \n",
    "                            calorimetric_uncertainties,kind='cubic') \n",
    "# define an array of power levels to use as interpolation inpu\n",
    "xnew = np.arange(20, 101, 1) \n",
    "# interpolate a calorimetric uncertainty at each power level in the array xnew\n",
    "ynew = PMA1(xnew) \n",
    "plt.figure(figsize=(11,7))\n",
    "plt.plot(calorimetric_power_levels, calorimetric_uncertainties, 'o', xnew, ynew, '-')\n",
    "plt.xlabel('Calorimetric Power Level (%RTP)')\n",
    "plt.ylabel('Calorimetric Uncert. (%RTP)')\n",
    "plt.show()"
   ]
  },
  {
   "cell_type": "markdown",
   "id": "ac26996a-d73e-47ca-926d-d0e52ec93fec",
   "metadata": {},
   "source": [
    "# **Assumptions**\n",
    "Additional uncertainties used in SM-1875 Rev 0 are:\n",
    "\n",
    "* NIS downcomer temperature coefficient is negligible and $\\alpha\\Delta T = 0$\n",
    "* Radial power distribution effect ($f(P)$) = ±4% indicated power\n"
   ]
  },
  {
   "cell_type": "markdown",
   "id": "190e7b2a-4df6-4de3-ac0c-43e337060a4f",
   "metadata": {},
   "source": [
    "# **Calculations**\n",
    "From SM-1875 Appendix A, the CSA that includes a reduced-power normalization is\n",
    "\n",
    "$CSA=\\alpha\\Delta T\\left(1-P\\right) \\pm \\sqrt{\\left(\\frac{PMA_1}{P}\\right)^2+\\left(PMA_2\\right)^2+\\left(\\frac{PMA_3}{P}\\right)^2+f\\left(P\\right)^2+RE^2}$\n"
   ]
  },
  {
   "cell_type": "markdown",
   "id": "63eaeed5-5d55-403c-8092-3cf1d8c07981",
   "metadata": {},
   "source": [
    "where P is the *fractional* reduced power level at which a calorimetric and subsequent power range channel calibration were performed.\n",
    "\n",
    "\n",
    "RE represents a combination of other calibration terms:\n",
    "\n",
    "$RE = \\sqrt{(M1 + M1MTE)^2 + (M5 + M5MTE)^2 + RD^2 + RTE^2 + RRA^2 }$\n"
   ]
  },
  {
   "cell_type": "code",
   "execution_count": null,
   "id": "6b98e201-890a-41a0-91ef-b82f06606a53",
   "metadata": {},
   "outputs": [],
   "source": [
    "RE = math.sqrt((M1+M1MTE)**2 + (M5+M5MTE)**2 + RD**2 + RTE**2 + RRA**2)\n",
    "display(Markdown(f\"**RE = {RE:2.5} %RTP**\"))\n"
   ]
  },
  {
   "cell_type": "markdown",
   "id": "c95caff0-ef9e-4a71-aa25-7d10169f20ae",
   "metadata": {},
   "source": [
    "Applying the assumptions listed previously, the CSA equation following a reduced-power normalization is:\n",
    "\n",
    "$CSA= \\sqrt{\\left(\\frac{PMA_1}{P}\\right)^2+\\left(PMA_2\\right)^2+\\left(\\frac{PMA_3}{P}\\right)^2+f\\left(P\\right)^2+RE^2}$\n",
    "\n",
    "\n"
   ]
  },
  {
   "cell_type": "code",
   "execution_count": null,
   "id": "558fca45-1f66-4fca-bec6-8b83d25d3e13",
   "metadata": {},
   "outputs": [],
   "source": [
    "# define an array of power levels to use as interpolation input\n",
    "Fp = 4.0  # this is the radial power distribution effect, assumed to be a constant\n",
    "power = np.arange(20, 101, 1) \n",
    "fracPower = power/100\n",
    "CSA = np.sqrt((PMA1(power)/fracPower)**2 + PMA2**2 + (PMA3/fracPower)**2 + Fp**2 + RE**2)\n",
    "plt.figure(figsize=(12,8))\n",
    "plt.plot(power, CSA)\n",
    "plt.xlabel('Calibration Power Level (%RTP)')\n",
    "plt.ylabel('CSA (%RTP)')\n",
    "plt.grid()\n",
    "plt.show()"
   ]
  },
  {
   "cell_type": "markdown",
   "id": "8ecb030d-9bb2-428c-b008-f9b3c0818394",
   "metadata": {},
   "source": [
    "The required trip setpoint, TS, in %RTP is defined in SM-1875 as:\n",
    "\n",
    "TS ≤ minimum of (109% RTP, (118% RTP – CSA)),\n",
    "\n",
    "or"
   ]
  },
  {
   "cell_type": "code",
   "execution_count": null,
   "id": "e5ece5ce-01c6-4422-9e0d-cebe7acea6b8",
   "metadata": {},
   "outputs": [],
   "source": [
    "TS = np.minimum(109, 118-CSA)\n",
    "plt.figure(figsize=(12,8))\n",
    "plt.plot(power, TS)\n",
    "plt.xlabel('Calibration Power Level (%RTP)')\n",
    "plt.ylabel('Trip Setpoint (%RTP')\n",
    "plt.xlim(20, 50)\n",
    "plt.yticks([90,92.5,95,97.5,100,102.5,105,107.5,109])\n",
    "plt.xticks([20,25,30,35,40,45,50,47])\n",
    "plt.grid()\n",
    "plt.show()"
   ]
  },
  {
   "cell_type": "code",
   "execution_count": null,
   "id": "08ed0168-680d-4396-87f9-a9400e1739e4",
   "metadata": {},
   "outputs": [],
   "source": []
  }
 ],
 "metadata": {
  "kernelspec": {
   "display_name": "Python 3 (ipykernel)",
   "language": "python",
   "name": "python3"
  },
  "language_info": {
   "codemirror_mode": {
    "name": "ipython",
    "version": 3
   },
   "file_extension": ".py",
   "mimetype": "text/x-python",
   "name": "python",
   "nbconvert_exporter": "python",
   "pygments_lexer": "ipython3",
   "version": "3.8.13"
  }
 },
 "nbformat": 4,
 "nbformat_minor": 5
}
