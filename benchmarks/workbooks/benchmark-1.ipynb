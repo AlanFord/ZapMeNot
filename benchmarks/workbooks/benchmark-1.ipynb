{
 "cells": [
  {
   "cell_type": "code",
   "execution_count": 1,
   "id": "d30f2118",
   "metadata": {},
   "outputs": [],
   "source": [
    "import os\n",
    "import pyvista\n",
    "pyvista.set_jupyter_backend('client')\n",
    "pyvista.global_theme.trame.server_proxy_enabled = True\n",
    "os.environ['TRAME_DEFAULT_HOST'] = '127.0.0.1'\n",
    "pyvista.global_theme.trame.server_proxy_prefix = ' http://127.0.0.1:'"
   ]
  },
  {
   "cell_type": "code",
   "execution_count": 2,
   "id": "cd52f9aa",
   "metadata": {},
   "outputs": [
    {
     "name": "stdout",
     "output_type": "stream",
     "text": [
      "\n",
      "test_benchmark_1\n",
      "At  20  ft, dose =  0.09128838509587166  mR/hr,  -0.9135079823383763 %\n",
      "At  50  ft, dose =  0.02056766698695576  mR/hr,  0.2811652216272943 %\n",
      "At  200  ft, dose =  0.0011887385023536352  mR/hr,  0.9115876361320194 %\n",
      "At  500  ft, dose =  0.000125659776314474  mR/hr,  -0.19080515133121925 %\n"
     ]
    }
   ],
   "source": [
    "import math\n",
    "\n",
    "from zapmenot import model,source,shield,detector,material\n",
    "\n",
    "#===================================================\n",
    "# Summary:\n",
    "# Benchmark 0: ANSI/ANS-6.6.1 Reference Problem I.1\n",
    "# Benchmark 1: ANSI/ANS-6.6.1 Reference Problem II.1 Case 1\n",
    "# Benchmark 2: ESIS Problem #1 - Dose Point D2 -Buildup with Steel\n",
    "# Benchmark 3: ESIS Problem #1 - Dose Point D3 - Buildup with Concrete\n",
    "# Benchmark 4: ESIS Problem #2 - Dose Point D5 - Steel Buildup\n",
    "# Benchmark 5: ESIS Problem #2 - Dose Point D6 - Concrete Buildup\n",
    "# Benchmark 6: User manual case for resin liner source inference\n",
    "# Benchmark 7: User manual case for resin liner source inference, iron shield\n",
    "\n",
    "# Benchmark 1 is based on ANSI/ANS-6.6.1 Reference Problem II.1\n",
    "# The source is a water-filled tank 35 feet high and 12 feet in diameter.\n",
    "# Uniformly distributed in the water is a source of 0.8 MeV photons.  The\n",
    "# volumetric source strength is 30 MeV/sec/cm3, or 37.5 photons/sec/cm3.  There is\n",
    "# no takn wall to be modeled.\n",
    "# The  detector locations are 20, 50, 200, and 500 feet from the bottom centerline of\n",
    "# the tank, offset up by 3 feet.\n",
    "# The water density is 1 g/cm3 and the air density is 0.00122 g/cm3.  The buildup\n",
    "# reference material is air.\n",
    "# Acceptable Results:\n",
    "# Distance   \tDose Rate         Microshield\n",
    "# (feet)\t\t(Rads/year)       (mR/hr)\n",
    "# 20\t\t\t6.0E-1 to 1.2E0   9.213E-02\n",
    "# 50\t\t\t1.2E-1 to 2.2E-1  2.051e-02\n",
    "# 200\t\t\t7.5E-3 to 1.5E-2  1.178e-03\n",
    "# 500\t\t\t5.4E-4 to 1.2E-3  1.259e-04\n",
    "\n",
    "my_model = model.Model()\n",
    "my_source = source.ZAlignedCylinderSource(material_name=\"water\", cylinder_radius=6*12*2.54, \\\n",
    "\t\t\tcylinder_center=[0,0,35/2*12*2.54], cylinder_length=35*12*2.54)\n",
    "my_source.add_photon(0.8,4.2034E9)\n",
    "my_source.points_per_dimension = [16,16,16]\n",
    "my_model.add_source(my_source)\n",
    "my_model.set_filler_material('air',density=0.00122)\n",
    "my_model.set_buildup_factor_material(material.Material('air'))\n",
    "print(\"\")\n",
    "print('test_benchmark_1')\n",
    "results = []\n",
    "for case in [[20,9.213E-02], [50,2.051e-02], [200,1.178e-03], [500,1.259e-04]]:\n",
    "\tdistance = case[0]\n",
    "\texpected_dose_rate = case[1]\n",
    "\tmy_model.add_detector(detector.Detector(distance*12*2.54, 0, 3*12*2.54))\n",
    "\tresult = my_model.calculate_exposure()\n",
    "\tdiff = (result - expected_dose_rate)/expected_dose_rate * 100\n",
    "\tresults.append([result,expected_dose_rate])\n",
    "\tprint(\"At \", distance, \" ft, dose = \", result, \" mR/hr, \", diff, \"%\")\n"
   ]
  },
  {
   "cell_type": "code",
   "execution_count": 3,
   "id": "23e791f9",
   "metadata": {},
   "outputs": [
    {
     "data": {
      "application/vnd.jupyter.widget-view+json": {
       "model_id": "da0d2f80804b465fbc1c498c185254a5",
       "version_major": 2,
       "version_minor": 0
      },
      "text/plain": [
       "Widget(value='<iframe src=\" http://127.0.0.1:53537/index.html?ui=P_0x17f75d7f0_0&reconnect=auto\" class=\"pyvist…"
      ]
     },
     "metadata": {},
     "output_type": "display_data"
    }
   ],
   "source": [
    "my_model.display()\n"
   ]
  }
 ],
 "metadata": {
  "kernelspec": {
   "display_name": "zapmenot-graphics",
   "language": "python",
   "name": "python3"
  },
  "language_info": {
   "codemirror_mode": {
    "name": "ipython",
    "version": 3
   },
   "file_extension": ".py",
   "mimetype": "text/x-python",
   "name": "python",
   "nbconvert_exporter": "python",
   "pygments_lexer": "ipython3",
   "version": "3.13.5"
  }
 },
 "nbformat": 4,
 "nbformat_minor": 5
}
