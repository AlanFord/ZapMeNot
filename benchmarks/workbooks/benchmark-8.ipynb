{
 "cells": [
  {
   "cell_type": "code",
   "execution_count": 1,
   "id": "d30f2118",
   "metadata": {},
   "outputs": [],
   "source": [
    "import os\n",
    "import pyvista\n",
    "pyvista.set_jupyter_backend('client')\n",
    "pyvista.global_theme.trame.server_proxy_enabled = True\n",
    "os.environ['TRAME_DEFAULT_HOST'] = '127.0.0.1'\n",
    "pyvista.global_theme.trame.server_proxy_prefix = ' http://127.0.0.1:'"
   ]
  },
  {
   "cell_type": "code",
   "execution_count": 2,
   "id": "84c455f2",
   "metadata": {},
   "outputs": [
    {
     "name": "stdout",
     "output_type": "stream",
     "text": [
      "\n",
      "test_benchmark_8\n",
      "With 10, 10, 10 quadrature, dose =  7.383803504058361  mR/hr,  0.7202769616472556 %\n"
     ]
    }
   ],
   "source": [
    "import math\n",
    "\n",
    "from zapmenot import model,source,shield,detector,material\n",
    "\n",
    "#===================================================\n",
    "# Summary:\n",
    "# Benchmark 0: ANSI/ANS-6.6.1 Reference Problem I.1\n",
    "# Benchmark 1: ANSI/ANS-6.6.1 Reference Problem II.1 Case 1\n",
    "# Benchmark 2: ESIS Problem #1 - Dose Point D2 -Buildup with Steel\n",
    "# Benchmark 3: ESIS Problem #1 - Dose Point D3 - Buildup with Concrete\n",
    "# Benchmark 4: ESIS Problem #2 - Dose Point D5 - Steel Buildup\n",
    "# Benchmark 5: ESIS Problem #2 - Dose Point D6 - Concrete Buildup\n",
    "# Benchmark 6: User manual case for resin liner source inference\n",
    "# Benchmark 7: User manual case for resin liner source inference, iron shield\n",
    "# Benchmark 8: Large spherical source of air with a concrete shell \n",
    "\n",
    "# Benchmark 8 models a hollow concrete spherical shell.\n",
    "# The air-filled center of the shell has a radius of 70 ft.\n",
    "# The concrete shell thickness is 30 inches.\n",
    "# The air density is 0.00122 g/cm3 and the concrete density is 2.3 g/cm3.\n",
    "# The dose point is located 302 ft, 7 in from the center of the sphere.\n",
    "# The source is uniformly distributed within the air sphere\n",
    "# with an energy of 1 MeV and a total activity of 1E17 photons/sec.\n",
    "# The region between the shell and the dose point is filled with air.\n",
    "# The buildup material is concrete.\n",
    "# Microshield result is 7.331 mR/hr\n",
    "myModel = model.Model()\n",
    "mySource = source.SphereSource(material_name=\"air\", density=0.00122, \\\n",
    "        sphere_radius=2133.6, \\\n",
    "        sphere_center=[0,0,0])\n",
    "myModel.add_source(mySource)\n",
    "aShell = shield.Shell(\"concrete\", mySource, density=2.3, thickness=76.2)\n",
    "myModel.add_shield(aShell)\n",
    "        \n",
    "mySource.add_photon(1.0, 1e17)\n",
    "\n",
    "# finish configuring the source\n",
    "mySource.points_per_dimension = [10,10,10]\n",
    "mySource.include_key_progeny = True\n",
    "\n",
    "myModel.set_buildup_factor_material(material.Material('concrete'))\n",
    "myModel.set_filler_material('air',density=0.00122)\n",
    "\n",
    "# add a detector and calculate the dose rate\n",
    "myModel.add_detector(detector.Detector(9222.74,0,0))\n",
    "result = myModel.calculate_exposure()\n",
    "expected_dose_rate = 7.331\n",
    "diff = (result - expected_dose_rate)/expected_dose_rate * 100\n",
    "print('\\ntest_benchmark_8')\n",
    "print(\"With 10, 10, 10 quadrature, dose = \", result, \" mR/hr, \", diff, \"%\")\n"
   ]
  },
  {
   "cell_type": "code",
   "execution_count": 3,
   "id": "d369ee7e",
   "metadata": {},
   "outputs": [
    {
     "data": {
      "application/vnd.jupyter.widget-view+json": {
       "model_id": "11045656366a4bcebcc579ceefbc0605",
       "version_major": 2,
       "version_minor": 0
      },
      "text/plain": [
       "Widget(value='<iframe src=\" http://127.0.0.1:56414/index.html?ui=P_0x3013e5a90_0&reconnect=auto\" class=\"pyvist…"
      ]
     },
     "metadata": {},
     "output_type": "display_data"
    }
   ],
   "source": [
    "myModel.display()"
   ]
  },
  {
   "cell_type": "code",
   "execution_count": 4,
   "id": "71492548",
   "metadata": {},
   "outputs": [
    {
     "name": "stdout",
     "output_type": "stream",
     "text": [
      "\n",
      "With 30, 30, 30 quadrature, dose =  7.333395811137657  mR/hr,  0.03268055023402704 %\n"
     ]
    }
   ],
   "source": [
    "\n",
    "# a more detailed quadrature\n",
    "mySource.points_per_dimension = [30,30,30]\n",
    "result = myModel.calculate_exposure()\n",
    "diff = (result - expected_dose_rate)/expected_dose_rate * 100\n",
    "print(\"\\nWith 30, 30, 30 quadrature, dose = \", result, \" mR/hr, \", diff, \"%\")\n"
   ]
  },
  {
   "cell_type": "code",
   "execution_count": 5,
   "id": "42da94ec",
   "metadata": {},
   "outputs": [
    {
     "data": {
      "application/vnd.jupyter.widget-view+json": {
       "model_id": "465be1ebc78846d3a741fc322e2b597a",
       "version_major": 2,
       "version_minor": 0
      },
      "text/plain": [
       "Widget(value='<iframe src=\" http://127.0.0.1:56414/index.html?ui=P_0x301928a50_1&reconnect=auto\" class=\"pyvist…"
      ]
     },
     "metadata": {},
     "output_type": "display_data"
    }
   ],
   "source": [
    "myModel.display()"
   ]
  },
  {
   "cell_type": "code",
   "execution_count": 6,
   "id": "8c85b952",
   "metadata": {},
   "outputs": [
    {
     "name": "stdout",
     "output_type": "stream",
     "text": [
      "\n",
      "With 10, 10, 10 quadrature and a Z-axis orientation, \n",
      "dose =  7.333336032580091  mR/hr,  0.03186512863306912 %\n"
     ]
    }
   ],
   "source": [
    "\n",
    "# a change in orientation\n",
    "mySource.points_per_dimension = [10,10,10]\n",
    "# add a detector and calculate the dose rate\n",
    "myModel.add_detector(detector.Detector(0, 0, 9222.74))\n",
    "result = myModel.calculate_exposure()\n",
    "diff = (result - expected_dose_rate)/expected_dose_rate * 100\n",
    "print(\"\\nWith 10, 10, 10 quadrature and a Z-axis orientation, \")\n",
    "print(\"dose = \", result, \" mR/hr, \", diff, \"%\")\n"
   ]
  },
  {
   "cell_type": "code",
   "execution_count": 7,
   "id": "36cb8f28",
   "metadata": {},
   "outputs": [
    {
     "data": {
      "application/vnd.jupyter.widget-view+json": {
       "model_id": "a200508b97a34f8cb907a37e0b8302da",
       "version_major": 2,
       "version_minor": 0
      },
      "text/plain": [
       "Widget(value='<iframe src=\" http://127.0.0.1:56414/index.html?ui=P_0x30192bd90_2&reconnect=auto\" class=\"pyvist…"
      ]
     },
     "metadata": {},
     "output_type": "display_data"
    }
   ],
   "source": [
    "myModel.display()"
   ]
  }
 ],
 "metadata": {
  "kernelspec": {
   "display_name": "zapmenot-graphics",
   "language": "python",
   "name": "python3"
  },
  "language_info": {
   "codemirror_mode": {
    "name": "ipython",
    "version": 3
   },
   "file_extension": ".py",
   "mimetype": "text/x-python",
   "name": "python",
   "nbconvert_exporter": "python",
   "pygments_lexer": "ipython3",
   "version": "3.13.5"
  }
 },
 "nbformat": 4,
 "nbformat_minor": 5
}
