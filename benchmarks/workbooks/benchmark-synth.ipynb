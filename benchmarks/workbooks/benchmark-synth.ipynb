{
 "cells": [
  {
   "cell_type": "code",
   "execution_count": 1,
   "id": "d30f2118",
   "metadata": {},
   "outputs": [],
   "source": [
    "import os\n",
    "import pyvista\n",
    "pyvista.set_jupyter_backend('client')\n",
    "pyvista.global_theme.trame.server_proxy_enabled = True\n",
    "os.environ['TRAME_DEFAULT_HOST'] = '127.0.0.1'\n",
    "pyvista.global_theme.trame.server_proxy_prefix = ' http://127.0.0.1:'"
   ]
  },
  {
   "cell_type": "code",
   "execution_count": 2,
   "id": "02207bb0",
   "metadata": {},
   "outputs": [
    {
     "name": "stdout",
     "output_type": "stream",
     "text": [
      "\n",
      "test_benchmark_SYNTH\n",
      "Just outside the concrete shield\n",
      "At z= 0 cm, dose =  2.6350321023943156e-05  mR/hr, \n",
      "At z= 6 cm, dose =  2.6176189293242534e-05  mR/hr, \n",
      "At z= 20 cm, dose =  2.448574554912762e-05  mR/hr, \n",
      "At z= 40 cm, dose =  1.9717574821424327e-05  mR/hr, \n",
      "At z= 60 cm, dose =  1.3897749439230393e-05  mR/hr, \n",
      "At z= 80.7 cm, dose =  8.540393982069513e-06  mR/hr, \n",
      "Just outside the iron shield\n",
      "At z= 0 cm, dose =  0.01298921960174947  mR/hr, \n",
      "At z= 6 cm, dose =  0.01287789669258526  mR/hr, \n",
      "At z= 20 cm, dose =  0.011818241340646678  mR/hr, \n",
      "At z= 40 cm, dose =  0.00902739854873093  mR/hr, \n",
      "At z= 60 cm, dose =  0.0059911358176405315  mR/hr, \n",
      "At z= 80.7 cm, dose =  0.003524060664927076  mR/hr, \n"
     ]
    }
   ],
   "source": [
    "import math\n",
    "\n",
    "from zapmenot import model, source, shield, detector, material\n",
    "\n",
    "\n",
    "# ===================================================\n",
    "# Summary:\n",
    "# source composition:\n",
    "# co-58:   22.5 uCi\n",
    "# co-60:   32.4 uCi\n",
    "# cs-137:  150 uCi\n",
    "# mn-54:   12.5 uCi\n",
    "# sb-125:  11.3 uCi\n",
    "# Shields include a cylindrical steel shield with and\n",
    "# inner radius of 3 ft and a thickness of 3 inches as\n",
    "# well as a concrete shield with an inner radius of \n",
    "# 4 ft and a thickness of 18 inches.  The dose point is\n",
    "# 14 ft from the source location.\n",
    "# The buildup material is concrete.\n",
    "my_model = model.Model()\n",
    "my_source = source.PointSource(0, 0, 0)\n",
    "my_source.add_isotope_curies('Co-58', 22.5e-6)\n",
    "my_source.add_isotope_curies('Co-60', 32.4e-6)\n",
    "my_source.add_isotope_curies('Cs-137', 150.e-6)\n",
    "my_source.add_isotope_curies('Mn-54', 12.5e-6)\n",
    "my_source.add_isotope_curies('Sb-125', 11.3e-6)\n",
    "# my_source.add_isotope_curies('Te-125m',1.0765e+000)\n",
    "my_source.include_key_progeny = True\n",
    "my_model.add_source(my_source)\n",
    "inner_radius = 3 * 12 * 2.54\n",
    "outer_radius = inner_radius + (3 * 2.54)\n",
    "my_model.add_shield(shield.ZAlignedInfiniteAnnulus(\"iron\",\n",
    "                    cylinder_center=[0, 0, 0],\n",
    "                    cylinder_inner_radius=inner_radius,\n",
    "                    cylinder_outer_radius=outer_radius,\n",
    "                    density=7.874))\n",
    "inner_radius = 4 * 12 * 2.54\n",
    "outer_radius = inner_radius + (18 * 2.54)\n",
    "my_model.add_shield(shield.ZAlignedInfiniteAnnulus(\"concrete\",\n",
    "                    cylinder_center=[0, 0, 0],\n",
    "                    cylinder_inner_radius=inner_radius,\n",
    "                    cylinder_outer_radius=outer_radius,\n",
    "                    density=2.34))\n",
    "my_model.set_filler_material('air', density=0.00122)\n",
    "my_model.set_buildup_factor_material(material.Material('concrete'))\n",
    "my_model.add_detector(detector.Detector(426.72, 0, 0))\n",
    "result = my_model.calculate_exposure()\n",
    "print(\"\")\n",
    "print('test_benchmark_SYNTH')\n",
    "print(\"Just outside the concrete shield\")\n",
    "my_model.add_detector(detector.Detector(167.64, 0, 0))\n",
    "result = my_model.calculate_exposure()\n",
    "print(\"At z= 0 cm, dose = \", result, \" mR/hr, \")\n",
    "my_model.add_detector(detector.Detector(167.64, 0, 6))\n",
    "result = my_model.calculate_exposure()\n",
    "print(\"At z= 6 cm, dose = \", result, \" mR/hr, \")\n",
    "my_model.add_detector(detector.Detector(167.64, 0, 20))\n",
    "result = my_model.calculate_exposure()\n",
    "print(\"At z= 20 cm, dose = \", result, \" mR/hr, \")\n",
    "my_model.add_detector(detector.Detector(167.64, 0, 40))\n",
    "result = my_model.calculate_exposure()\n",
    "print(\"At z= 40 cm, dose = \", result, \" mR/hr, \")\n",
    "my_model.add_detector(detector.Detector(167.64, 0, 60))\n",
    "result = my_model.calculate_exposure()\n",
    "print(\"At z= 60 cm, dose = \", result, \" mR/hr, \")\n",
    "my_model.add_detector(detector.Detector(167.64, 0, 80.7))\n",
    "result = my_model.calculate_exposure()\n",
    "print(\"At z= 80.7 cm, dose = \", result, \" mR/hr, \")\n",
    "#\n",
    "print(\"Just outside the iron shield\")\n",
    "my_model.set_buildup_factor_material(material.Material('iron'))\n",
    "my_model.add_detector(detector.Detector(99.06, 0, 0))\n",
    "result = my_model.calculate_exposure()\n",
    "print(\"At z= 0 cm, dose = \", result, \" mR/hr, \")\n",
    "my_model.add_detector(detector.Detector(99.06, 0, 6))\n",
    "result = my_model.calculate_exposure()\n",
    "print(\"At z= 6 cm, dose = \", result, \" mR/hr, \")\n",
    "my_model.add_detector(detector.Detector(99.06, 0, 20))\n",
    "result = my_model.calculate_exposure()\n",
    "print(\"At z= 20 cm, dose = \", result, \" mR/hr, \")\n",
    "my_model.add_detector(detector.Detector(99.06, 0, 40))\n",
    "result = my_model.calculate_exposure()\n",
    "print(\"At z= 40 cm, dose = \", result, \" mR/hr, \")\n",
    "my_model.add_detector(detector.Detector(99.06, 0, 60))\n",
    "result = my_model.calculate_exposure()\n",
    "print(\"At z= 60 cm, dose = \", result, \" mR/hr, \")\n",
    "my_model.add_detector(detector.Detector(99.06, 0, 80.7))\n",
    "result = my_model.calculate_exposure()\n",
    "print(\"At z= 80.7 cm, dose = \", result, \" mR/hr, \")\n"
   ]
  },
  {
   "cell_type": "code",
   "execution_count": 3,
   "id": "f8d959c5",
   "metadata": {},
   "outputs": [
    {
     "data": {
      "application/vnd.jupyter.widget-view+json": {
       "model_id": "07006ce32830469ca9de0bde16a2b1e1",
       "version_major": 2,
       "version_minor": 0
      },
      "text/plain": [
       "Widget(value='<iframe src=\" http://127.0.0.1:56546/index.html?ui=P_0x302a1d940_0&reconnect=auto\" class=\"pyvist…"
      ]
     },
     "metadata": {},
     "output_type": "display_data"
    }
   ],
   "source": [
    "my_model.display()"
   ]
  }
 ],
 "metadata": {
  "kernelspec": {
   "display_name": "zapmenot-graphics",
   "language": "python",
   "name": "python3"
  },
  "language_info": {
   "codemirror_mode": {
    "name": "ipython",
    "version": 3
   },
   "file_extension": ".py",
   "mimetype": "text/x-python",
   "name": "python",
   "nbconvert_exporter": "python",
   "pygments_lexer": "ipython3",
   "version": "3.13.5"
  }
 },
 "nbformat": 4,
 "nbformat_minor": 5
}
