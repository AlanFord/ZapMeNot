{
 "cells": [
  {
   "cell_type": "code",
   "execution_count": 1,
   "id": "c592c522",
   "metadata": {},
   "outputs": [],
   "source": [
    "import os\n",
    "import pyvista\n",
    "pyvista.set_jupyter_backend('client')\n",
    "pyvista.global_theme.trame.server_proxy_enabled = True\n",
    "os.environ['TRAME_DEFAULT_HOST'] = '127.0.0.1'\n",
    "pyvista.global_theme.trame.server_proxy_prefix = ' http://127.0.0.1:'"
   ]
  },
  {
   "cell_type": "code",
   "execution_count": 2,
   "id": "956fa345-54ee-4fb4-9a2a-da3c112e8a2d",
   "metadata": {},
   "outputs": [
    {
     "name": "stdout",
     "output_type": "stream",
     "text": [
      "\n",
      "test_benchmark_0\n",
      "At  200  ft, dose =  1.2004929791006721e-11  mR/hr,  0.5438005946961577 %\n",
      "At  1000  ft, dose =  3.3008121962826143e-13  mR/hr,  -0.9360085149275376 %\n",
      "At  3000  ft, dose =  9.150963091051742e-15  mR/hr,  0.6042556184228489 %\n",
      "At  5000  ft, dose =  6.994002714248372e-16  mR/hr,  0.24369663535003205 %\n"
     ]
    }
   ],
   "source": [
    "import math\n",
    "\n",
    "from zapmenot import model,source,shield,detector,material\n",
    "\n",
    "#===================================================\n",
    "# Summary:\n",
    "# Benchmark 0: ANSI/ANS-6.6.1 Reference Problem I.1\n",
    "# Benchmark 1: ANSI/ANS-6.6.1 Reference Problem II.1\n",
    "# Benchmark 2: ESIS Problem #1 - Dose Point D2 -Buildup with Steel\n",
    "# Benchmark 3: ESIS Problem #1 - Dose Point D3 - Buildup with Concrete\n",
    "# Benchmark 4: ESIS Problem #2 - Dose Point D5 - Steel Buildup\n",
    "# Benchmark 5: ESIS Problem #2 - Dose Point D6 - Concrete Buildup\n",
    "# Benchmark 6: solidified resin container with concrete shield\n",
    "# Benchmark 7: solidified resin container with concrete and steel shields\n",
    "\n",
    "# Benchmark 0 is based on ANSI/ANS-6.6.1 Reference Problem I.1\n",
    "# The source is located at the origin.\n",
    "# The x-location of the dose point is variable between 200 and 5000 feet.\n",
    "# The y-location of the dose point i 57 feet.\n",
    "# There is no shielding other than air between the source and dose point.\n",
    "# The air density is 0.00122 g/cm3.\n",
    "# The source energy is 6.2 MeV.\n",
    "# The source strength is 1 photon/sec.\n",
    "# The builup material is air.\n",
    "# Acceptable Results:\n",
    "# Distance   \tDose Rate            Microshield \n",
    "# (feet)\t\t(Rads/year)          (mrad/hr)\n",
    "# 200\t\t\t8.0E-11 to 1.2E-10   1.194e-11\n",
    "# 1,000\t\t\t2.0E-12 to 3.0E-12   3.332e-13\n",
    "# 3,000\t\t\t4.5E-14 to 7.5E-14   9.096e-15\n",
    "# 5,000\t\t\t3.5E-15 to 5.8E-15   6.977e-16\n",
    "my_model = model.Model()\n",
    "my_source = source.PointSource(0,0,0)\n",
    "my_source.add_photon(6.2,1)\n",
    "my_model.add_source(my_source)\n",
    "my_model.set_filler_material('air',density=0.00122)\n",
    "my_model.set_buildup_factor_material(material.Material('air'))\n",
    "print(\"\")\n",
    "print('test_benchmark_0')\n",
    "results = []\n",
    "for case in [[200,1.194e-11], [1000,3.332e-13], [3000,9.096e-15], [5000,6.977e-16]]:\n",
    "    distance = case[0]\n",
    "    expected_dose_rate = case[1]\n",
    "    my_model.add_detector(detector.Detector(distance*12*2.54,0,57*12*2.54))\n",
    "    result = my_model.calculate_exposure()\n",
    "    diff = (result - expected_dose_rate)/expected_dose_rate * 100\n",
    "    results.append([result,expected_dose_rate])\n",
    "    print(\"At \", distance, \" ft, dose = \", result, \" mR/hr, \", diff, \"%\")"
   ]
  },
  {
   "cell_type": "code",
   "execution_count": 3,
   "id": "7375c049-b44b-4558-8ddb-97664d15a6c6",
   "metadata": {},
   "outputs": [
    {
     "data": {
      "application/vnd.jupyter.widget-view+json": {
       "model_id": "d516bc370aa341e3ad33365a20c995fd",
       "version_major": 2,
       "version_minor": 0
      },
      "text/plain": [
       "Widget(value='<iframe src=\" http://127.0.0.1:53509/index.html?ui=P_0x302ef17f0_0&reconnect=auto\" class=\"pyvist…"
      ]
     },
     "metadata": {},
     "output_type": "display_data"
    }
   ],
   "source": [
    "my_model.display()"
   ]
  },
  {
   "cell_type": "code",
   "execution_count": null,
   "id": "d0543c6c-ccfc-4c15-8fe6-18b1d9114422",
   "metadata": {},
   "outputs": [],
   "source": []
  }
 ],
 "metadata": {
  "kernelspec": {
   "display_name": "zapmenot-graphics",
   "language": "python",
   "name": "python3"
  },
  "language_info": {
   "codemirror_mode": {
    "name": "ipython",
    "version": 3
   },
   "file_extension": ".py",
   "mimetype": "text/x-python",
   "name": "python",
   "nbconvert_exporter": "python",
   "pygments_lexer": "ipython3",
   "version": "3.13.5"
  }
 },
 "nbformat": 4,
 "nbformat_minor": 5
}
