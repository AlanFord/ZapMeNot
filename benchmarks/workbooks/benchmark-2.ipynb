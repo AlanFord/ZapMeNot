{
 "cells": [
  {
   "cell_type": "code",
   "execution_count": 1,
   "id": "d30f2118",
   "metadata": {},
   "outputs": [],
   "source": [
    "import os\n",
    "import pyvista\n",
    "pyvista.set_jupyter_backend('client')\n",
    "pyvista.global_theme.trame.server_proxy_enabled = True\n",
    "os.environ['TRAME_DEFAULT_HOST'] = '127.0.0.1'\n",
    "pyvista.global_theme.trame.server_proxy_prefix = ' http://127.0.0.1:'"
   ]
  },
  {
   "cell_type": "code",
   "execution_count": 2,
   "id": "60c2e413",
   "metadata": {},
   "outputs": [
    {
     "name": "stdout",
     "output_type": "stream",
     "text": [
      "\n",
      "test_benchmark_2\n",
      "At 220 cm, dose =  62190.36626259672  mR/hr,  -1.191029134736703 %\n"
     ]
    }
   ],
   "source": [
    "import math\n",
    "\n",
    "from zapmenot import model,source,shield,detector,material\n",
    "\n",
    "#===================================================\n",
    "# Summary:\n",
    "# Benchmark 0: ANSI/ANS-6.6.1 Reference Problem I.1\n",
    "# Benchmark 1: ANSI/ANS-6.6.1 Reference Problem II.1 Case 1\n",
    "# Benchmark 2: ESIS Problem #1 - Dose Point D2 -Buildup with Steel\n",
    "# Benchmark 3: ESIS Problem #1 - Dose Point D3 - Buildup with Concrete\n",
    "# Benchmark 4: ESIS Problem #2 - Dose Point D5 - Steel Buildup\n",
    "# Benchmark 5: ESIS Problem #2 - Dose Point D6 - Concrete Buildup\n",
    "# Benchmark 6: solidified resin container with concrete shield\n",
    "# Benchmark 7: solidified resin container with concrete and steel shields\n",
    "\n",
    "# Benchmark 2 is based on ESIS benchmark shielding problem #1.\n",
    "# The source is a water-filled tank 108.3 cm high and 308 cm in diameter.\n",
    "# The tank wall is steel with a thickness of 2.54 cm.\n",
    "# Uniformly distributed in the water is the following source:\n",
    "#   Energy         Source\n",
    "#   (MeV)          (photons/sec/cm3)\n",
    "#   0.4            4.0E+6\n",
    "#   0.8            7.0E+6\n",
    "#   1.3            2.8E+6\n",
    "#   1.7            8.2E+6\n",
    "#   2.2            4.0E+4\n",
    "#   2.5            3.0E+4\n",
    "#   3.5            1.2E+1\n",
    "# The  detector location is 220 cm from the tank centerline\n",
    "# at the bottom of the tank.\n",
    "# The water density is 1 g/cm3 and the air density is 0.00122 g/cm3.\n",
    "# The the steel density is 7.8 g/cm3.  The buildup material is\n",
    "# steel.\n",
    "# Benchmark acceptable results are 4.54E+1 to 8.01E+1 R/hr.\n",
    "# Microshield result is 6.294e+04 mR/hr  \n",
    "myModel = model.Model()\n",
    "mySource = source.ZAlignedCylinderSource(material_name=\"water\", cylinder_radius=154, \\\n",
    "            cylinder_center=[0,0,54.15], cylinder_length=108.3)\n",
    "mySource.add_photon(0.4,3.2276e+013)\n",
    "mySource.add_photon(0.8,5.6483e+013)\n",
    "mySource.add_photon(1.3,2.2593e+013)\n",
    "mySource.add_photon(1.7,6.6166e+013)\n",
    "mySource.add_photon(2.2,3.2276e+011)\n",
    "mySource.add_photon(2.5,2.4207e+011)\n",
    "mySource.add_photon(3.5,9.6828e+007)\n",
    "mySource.points_per_dimension = [16,16,16]\n",
    "myModel.add_source(mySource)\n",
    "myModel.add_shield(shield.ZAlignedInfiniteAnnulus(\"iron\", cylinder_inner_radius=154, \\\n",
    "            cylinder_center=[0,0,54.15], cylinder_outer_radius=154+2.54, density=7.8))\n",
    "myModel.set_filler_material('air',density=0.00129)\n",
    "myModel.set_buildup_factor_material(material.Material('iron'))\n",
    "myModel.add_detector(detector.Detector(220,0,50.15))\n",
    "result = myModel.calculate_exposure()\n",
    "expected_dose_rate = 6.294e+04\n",
    "diff = (result - expected_dose_rate)/expected_dose_rate * 100\n",
    "print(\"\")\n",
    "print('test_benchmark_2')\n",
    "print(\"At 220 cm, dose = \", result, \" mR/hr, \", diff, \"%\")\n"
   ]
  },
  {
   "cell_type": "code",
   "execution_count": 3,
   "id": "24089f38",
   "metadata": {},
   "outputs": [
    {
     "data": {
      "application/vnd.jupyter.widget-view+json": {
       "model_id": "89f73beccbfd4793adf2c90dda328a84",
       "version_major": 2,
       "version_minor": 0
      },
      "text/plain": [
       "Widget(value='<iframe src=\" http://127.0.0.1:53485/index.html?ui=P_0x164f09940_0&reconnect=auto\" class=\"pyvist…"
      ]
     },
     "metadata": {},
     "output_type": "display_data"
    }
   ],
   "source": [
    "myModel.display()"
   ]
  }
 ],
 "metadata": {
  "kernelspec": {
   "display_name": "zapmenot-graphics",
   "language": "python",
   "name": "python3"
  },
  "language_info": {
   "codemirror_mode": {
    "name": "ipython",
    "version": 3
   },
   "file_extension": ".py",
   "mimetype": "text/x-python",
   "name": "python",
   "nbconvert_exporter": "python",
   "pygments_lexer": "ipython3",
   "version": "3.13.5"
  }
 },
 "nbformat": 4,
 "nbformat_minor": 5
}
