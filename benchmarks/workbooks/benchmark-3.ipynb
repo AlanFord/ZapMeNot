{
 "cells": [
  {
   "cell_type": "code",
   "execution_count": 1,
   "id": "d30f2118",
   "metadata": {},
   "outputs": [],
   "source": [
    "import os\n",
    "import pyvista\n",
    "pyvista.set_jupyter_backend('client')\n",
    "pyvista.global_theme.trame.server_proxy_enabled = True\n",
    "os.environ['TRAME_DEFAULT_HOST'] = '127.0.0.1'\n",
    "pyvista.global_theme.trame.server_proxy_prefix = ' http://127.0.0.1:'"
   ]
  },
  {
   "cell_type": "code",
   "execution_count": 2,
   "id": "ac0e8ac9",
   "metadata": {},
   "outputs": [
    {
     "name": "stdout",
     "output_type": "stream",
     "text": [
      "\n",
      "test_benchmark_3\n",
      "At 311 cm, dose =  1.8810955369670874  mR/hr,  -0.47113561020700956 %\n"
     ]
    }
   ],
   "source": [
    "import math\n",
    "\n",
    "from zapmenot import model,source,shield,detector,material\n",
    "\n",
    "#===================================================\n",
    "# Summary:\n",
    "# Benchmark 0: ANSI/ANS-6.6.1 Reference Problem I.1\n",
    "# Benchmark 1: ANSI/ANS-6.6.1 Reference Problem II.1 Case 1\n",
    "# Benchmark 2: ESIS Problem #1 - Dose Point D2 -Buildup with Steel\n",
    "# Benchmark 3: ESIS Problem #1 - Dose Point D3 - Buildup with Concrete\n",
    "# Benchmark 4: ESIS Problem #2 - Dose Point D5 - Steel Buildup\n",
    "# Benchmark 5: ESIS Problem #2 - Dose Point D6 - Concrete Buildup\n",
    "# Benchmark 6: User manual case for resin liner source inference\n",
    "# Benchmark 7: User manual case for resin liner source inference, iron shield\n",
    "\n",
    "# Benchmark 3 is based on ESIS benchmark shielding problem #1.\n",
    "# The source is a water-filled tank 108.3 cm high and 308 cm in diameter.\n",
    "# The tank wall is steel with a thickness of 2.54 cm.\n",
    "# Uniformly distributed in the water is the following source:\n",
    "#   Energy         Source\n",
    "#   (MeV)          (photons/sec/cm3)\n",
    "#   0.4            4.0E+6\n",
    "#   0.8            7.0E+6\n",
    "#   1.3            2.8E+6\n",
    "#   1.7            8.2E+6\n",
    "#   2.2            4.0E+4\n",
    "#   2.5            3.0E+4\n",
    "#   3.5            1.2E+1\n",
    "# The  detector location is 311 cm from the tank centerline\n",
    "# at the vertical centerline of the tank.\n",
    "# A concrete shield wall between tank and detector starts at\n",
    "# x = 220 cm and ends at x=320 cm.\n",
    "# The water density is 1 g/cm3 and the air density is 0.00122 g/cm3.\n",
    "# The the steel density is 7.8 g/cm3.\n",
    "# The concrete density is 2.4 g/cm3.  \n",
    "# The buildup material is concrete.\n",
    "# Benchmark acceptable results are 0.49E-3 to 2.46E-3 R/hr.\n",
    "# Microshield result is 1.890E0 mR/hr  \n",
    "my_model = model.Model()\n",
    "# my_source = source.ZAlignedCylinderSource(materialName=\"water\", cylinderRadius=154, \\\n",
    "# \t       cylinderCenter=[0,0,54.15], cylinderLength=108.3)\n",
    "my_source = source.ZAlignedCylinderSource(material_name=\"water\", cylinder_radius=154, \\\n",
    "            cylinder_center=[0,0,54.15], cylinder_length=108.3)\n",
    "my_source.add_photon(0.4,3.2276e+013)\n",
    "my_source.add_photon(0.8,5.6483e+013)\n",
    "my_source.add_photon(1.3,2.2593e+013)\n",
    "my_source.add_photon(1.7,6.6166e+013)\n",
    "my_source.add_photon(2.2,3.2276e+011)\n",
    "my_source.add_photon(2.5,2.4207e+011)\n",
    "my_source.add_photon(3.5,9.6828e+007)\n",
    "my_source.points_per_dimension = [16,16,16]\n",
    "my_model.add_source(my_source)\n",
    "my_model.add_shield(shield.ZAlignedInfiniteAnnulus(\"iron\", cylinder_inner_radius=154, \\\n",
    "            cylinder_center=[0,0,54.15], cylinder_outer_radius=154+2.54, density=7.8))\n",
    "my_model.add_shield(shield.SemiInfiniteXSlab(\"concrete\", x_start=220, \\\n",
    "            x_end=311, density=2.4))\n",
    "my_model.set_filler_material('air',density=0.00129)\n",
    "my_model.set_buildup_factor_material(material.Material('concrete'))\n",
    "my_model.add_detector(detector.Detector(311, 0, 54.15))\n",
    "result = my_model.calculate_exposure()\n",
    "expected_dose_rate = 1.890E0\n",
    "diff = (result - expected_dose_rate)/expected_dose_rate * 100\n",
    "# convert from mR/hr to R/hr\n",
    "print(\"\")\n",
    "print('test_benchmark_3')\n",
    "print(\"At 311 cm, dose = \", result, \" mR/hr, \", diff, \"%\")\n"
   ]
  },
  {
   "cell_type": "code",
   "execution_count": 3,
   "id": "122ddebc",
   "metadata": {},
   "outputs": [
    {
     "data": {
      "application/vnd.jupyter.widget-view+json": {
       "model_id": "5fc32beb86b848a296f339f0fbe9f054",
       "version_major": 2,
       "version_minor": 0
      },
      "text/plain": [
       "Widget(value='<iframe src=\" http://127.0.0.1:56234/index.html?ui=P_0x17f3bda90_0&reconnect=auto\" class=\"pyvist…"
      ]
     },
     "metadata": {},
     "output_type": "display_data"
    }
   ],
   "source": [
    "my_model.display()"
   ]
  }
 ],
 "metadata": {
  "kernelspec": {
   "display_name": "zapmenot-graphics",
   "language": "python",
   "name": "python3"
  },
  "language_info": {
   "codemirror_mode": {
    "name": "ipython",
    "version": 3
   },
   "file_extension": ".py",
   "mimetype": "text/x-python",
   "name": "python",
   "nbconvert_exporter": "python",
   "pygments_lexer": "ipython3",
   "version": "3.13.5"
  }
 },
 "nbformat": 4,
 "nbformat_minor": 5
}
