{
 "cells": [
  {
   "cell_type": "code",
   "execution_count": 1,
   "id": "d30f2118",
   "metadata": {},
   "outputs": [],
   "source": [
    "import os\n",
    "import pyvista\n",
    "pyvista.set_jupyter_backend('client')\n",
    "pyvista.global_theme.trame.server_proxy_enabled = True\n",
    "os.environ['TRAME_DEFAULT_HOST'] = '127.0.0.1'\n",
    "pyvista.global_theme.trame.server_proxy_prefix = ' http://127.0.0.1:'"
   ]
  },
  {
   "cell_type": "code",
   "execution_count": 2,
   "id": "07e38d39",
   "metadata": {},
   "outputs": [
    {
     "name": "stdout",
     "output_type": "stream",
     "text": [
      "\n",
      "test_benchmark_4\n",
      "At 365.1 cm, dose =  132192.58725474664  mR/hr,  -0.6817526260355805 %\n"
     ]
    }
   ],
   "source": [
    "import math\n",
    "\n",
    "from zapmenot import model,source,shield,detector,material\n",
    "\n",
    "#===================================================\n",
    "# Summary:\n",
    "# Benchmark 0: ANSI/ANS-6.6.1 Reference Problem I.1\n",
    "# Benchmark 1: ANSI/ANS-6.6.1 Reference Problem II.1 Case 1\n",
    "# Benchmark 2: ESIS Problem #1 - Dose Point D2 -Buildup with Steel\n",
    "# Benchmark 3: ESIS Problem #1 - Dose Point D3 - Buildup with Concrete\n",
    "# Benchmark 4: ESIS Problem #2 - Dose Point D5 - Steel Buildup\n",
    "# Benchmark 5: ESIS Problem #2 - Dose Point D6 - Concrete Buildup\n",
    "# Benchmark 6: User manual case for resin liner source inference\n",
    "# Benchmark 7: User manual case for resin liner source inference, iron shield\n",
    "\n",
    "# Benchmark 4 is based on ESIS benchmark shielding problem #2.\n",
    "# The source is a rectangular water-filled tank 273 cm wide, 273 cm long,\n",
    "# and 479.9 cm high.\n",
    "# The tank wall is steel with a thickness of 2.54 cm.\n",
    "# Uniformly distributed in the water is the following source:\n",
    "#   Energy         Source\n",
    "#   (MeV)          (photons/sec/cm3)\n",
    "#   0.4            4.0E+6\n",
    "#   0.8            7.0E+6\n",
    "#   1.3            2.8E+6\n",
    "#   1.7            8.2E+6\n",
    "#   2.2            4.0E+4\n",
    "#   2.5            3.0E+4\n",
    "#   3.5            1.2E+1\n",
    "# The  detector horizontal location is 228.6 cm from the tank centerline\n",
    "# at the vertical centerline of the tank.\n",
    "# The water density is 1 g/cm3 and the air density is 0.00122 g/cm3.\n",
    "# The the steel density is 7.8 g/cm3.\n",
    "# The buildup material is iron.\n",
    "# Benchmark result is 1.49E+2 R/hr.\n",
    "# Microshield result is 1.331e+05 mR/hr  \n",
    "my_model = model.Model()\n",
    "my_source = source.BoxSource(material_name=\"water\", box_center=[136.5,0,239.95], \\\n",
    "            box_dimensions=[273,273,479.9])\n",
    "my_source.add_photon(0.4,1.4307e+014)\n",
    "my_source.add_photon(0.8,2.5037e+014)\n",
    "my_source.add_photon(1.3,1.0015e+014)\n",
    "my_source.add_photon(1.7,2.9329e+014)\n",
    "my_source.add_photon(2.2,1.4307e+012)\n",
    "my_source.add_photon(2.5,1.0730e+012)\n",
    "my_source.add_photon(3.5,4.2920e+008)\n",
    "my_source.points_per_dimension = [40,20,30]\n",
    "my_model.add_source(my_source)\n",
    "my_model.add_shield(shield.SemiInfiniteXSlab(\"iron\", x_start=273, \\\n",
    "            x_end=275.54, density=7.8))\n",
    "my_model.set_filler_material('air',density=0.00122)\n",
    "my_model.set_buildup_factor_material(material.Material('iron'))\n",
    "my_model.add_detector(detector.Detector(365.1,0,240))\n",
    "result = my_model.calculate_exposure()\n",
    "expected_dose_rate = 1.331e+05\n",
    "diff = (result - expected_dose_rate)/expected_dose_rate * 100\n",
    "print(\"\")\n",
    "print('test_benchmark_4')\n",
    "print(\"At 365.1 cm, dose = \", result, \" mR/hr, \", diff, \"%\")\n"
   ]
  },
  {
   "cell_type": "code",
   "execution_count": 3,
   "id": "4b5b6598",
   "metadata": {},
   "outputs": [
    {
     "data": {
      "application/vnd.jupyter.widget-view+json": {
       "model_id": "4a5577ddbd15418190beacbba20ac86b",
       "version_major": 2,
       "version_minor": 0
      },
      "text/plain": [
       "Widget(value='<iframe src=\" http://127.0.0.1:61839/index.html?ui=P_0x301999940_0&reconnect=auto\" class=\"pyvist…"
      ]
     },
     "metadata": {},
     "output_type": "display_data"
    }
   ],
   "source": [
    "my_model.display()"
   ]
  }
 ],
 "metadata": {
  "kernelspec": {
   "display_name": "zapmenot-graphics",
   "language": "python",
   "name": "python3"
  },
  "language_info": {
   "codemirror_mode": {
    "name": "ipython",
    "version": 3
   },
   "file_extension": ".py",
   "mimetype": "text/x-python",
   "name": "python",
   "nbconvert_exporter": "python",
   "pygments_lexer": "ipython3",
   "version": "3.13.5"
  }
 },
 "nbformat": 4,
 "nbformat_minor": 5
}
