{
 "cells": [
  {
   "cell_type": "code",
   "execution_count": 1,
   "id": "b49aca6c-6952-4580-83d6-7d8165c9d7f3",
   "metadata": {},
   "outputs": [
    {
     "data": {
      "application/vnd.jupyter.widget-view+json": {
       "model_id": "90feb82c895942efb2738e3d96df1406",
       "version_major": 2,
       "version_minor": 0
      },
      "text/plain": [
       "Widget(value='<iframe src=\"http://localhost:52102/index.html?ui=P_0x1140cf820_0&reconnect=auto\" class=\"pyvista…"
      ]
     },
     "metadata": {},
     "output_type": "display_data"
    }
   ],
   "source": [
    "import pyvista as pv\n",
    "from pyvista import examples\n",
    "vol = examples.download_knee_full()\n",
    "pl = pv.Plotter() \n",
    "pl.add_volume (vol, cmap=\"bone\", opacity=\"sigmoid\", show_scalar_bar=False)\n",
    "pl.enable_depth_peeling()\n",
    "pl. show( )"
   ]
  },
  {
   "cell_type": "code",
   "execution_count": null,
   "id": "8907f8fa-bc40-429c-ac9d-077183abb352",
   "metadata": {},
   "outputs": [],
   "source": []
  }
 ],
 "metadata": {
  "kernelspec": {
   "display_name": "Python 3 (ipykernel)",
   "language": "python",
   "name": "python3"
  },
  "language_info": {
   "codemirror_mode": {
    "name": "ipython",
    "version": 3
   },
   "file_extension": ".py",
   "mimetype": "text/x-python",
   "name": "python",
   "nbconvert_exporter": "python",
   "pygments_lexer": "ipython3",
   "version": "3.10.16"
  }
 },
 "nbformat": 4,
 "nbformat_minor": 5
}
