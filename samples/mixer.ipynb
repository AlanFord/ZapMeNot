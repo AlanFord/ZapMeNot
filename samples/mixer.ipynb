{
 "cells": [
  {
   "cell_type": "markdown",
   "id": "53434e80-3878-4c31-8638-1e291ebef00b",
   "metadata": {},
   "source": [
    "# Sample ZapMeNot Calculation Without Graphics"
   ]
  },
  {
   "cell_type": "markdown",
   "id": "498f1a53-6d2f-43f1-ae51-13f411d8b482",
   "metadata": {},
   "source": [
    "# **Import packages**\n",
    "The Python packages required by this notebook are imported. The package and Python interpreter versions are printed to ensure analysis reproducibility. "
   ]
  },
  {
   "cell_type": "code",
   "execution_count": 1,
   "id": "0d79bea6-fc40-4ec0-9f98-2461a8ea6e37",
   "metadata": {},
   "outputs": [],
   "source": [
    "import sys\n",
    "sys.path.insert(0,'..') # use something like this if you haven't installed the ZapMeNot package\n",
    "from zapmenot import model,source,shield,detector,material\n"
   ]
  },
  {
   "cell_type": "code",
   "execution_count": 8,
   "id": "8e87ade9-7b42-4870-98c9-02c097d5c875",
   "metadata": {},
   "outputs": [
    {
     "data": {
      "text/plain": [
       "7.874"
      ]
     },
     "metadata": {},
     "output_type": "display_data"
    },
    {
     "data": {
      "text/plain": [
       "4"
      ]
     },
     "metadata": {},
     "output_type": "display_data"
    },
    {
     "data": {
      "text/plain": [
       "np.float64(0.3425)"
      ]
     },
     "metadata": {},
     "output_type": "display_data"
    },
    {
     "data": {
      "text/plain": [
       "np.float64(0.1383)"
      ]
     },
     "execution_count": 8,
     "metadata": {},
     "output_type": "execute_result"
    }
   ],
   "source": [
    "iron = material.Material('iron')\n",
    "copper = material.Material('copper')\n",
    "display(iron._density)\n",
    "iron.density= 4\n",
    "display(iron._density)\n",
    "display(iron.get_mass_atten_coeff(.1))\n",
    "iron.get_mass_atten_coeff(.2)\n"
   ]
  },
  {
   "cell_type": "code",
   "execution_count": null,
   "id": "d644d67a-e81b-43f4-9397-441bd39b188f",
   "metadata": {},
   "outputs": [],
   "source": []
  }
 ],
 "metadata": {
  "kernelspec": {
   "display_name": "Python 3 (ipykernel)",
   "language": "python",
   "name": "python3"
  },
  "language_info": {
   "codemirror_mode": {
    "name": "ipython",
    "version": 3
   },
   "file_extension": ".py",
   "mimetype": "text/x-python",
   "name": "python",
   "nbconvert_exporter": "python",
   "pygments_lexer": "ipython3",
   "version": "3.13.5"
  }
 },
 "nbformat": 4,
 "nbformat_minor": 5
}
