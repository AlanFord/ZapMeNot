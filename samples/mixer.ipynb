{
 "cells": [
  {
   "cell_type": "markdown",
   "id": "53434e80-3878-4c31-8638-1e291ebef00b",
   "metadata": {},
   "source": [
    "# Sample ZapMeNot Calculation Without Graphics"
   ]
  },
  {
   "cell_type": "markdown",
   "id": "498f1a53-6d2f-43f1-ae51-13f411d8b482",
   "metadata": {},
   "source": [
    "# **Import packages**\n",
    "The Python packages required by this notebook are imported. The package and Python interpreter versions are printed to ensure analysis reproducibility. "
   ]
  },
  {
   "cell_type": "code",
   "execution_count": 1,
   "id": "0d79bea6-fc40-4ec0-9f98-2461a8ea6e37",
   "metadata": {},
   "outputs": [],
   "source": [
    "import sys\n",
    "sys.path.insert(0,'..') # use something like this if you haven't installed the ZapMeNot package\n",
    "from zapmenot import model,source,shield,detector,material\n"
   ]
  },
  {
   "cell_type": "code",
   "execution_count": 10,
   "id": "8e87ade9-7b42-4870-98c9-02c097d5c875",
   "metadata": {},
   "outputs": [
    {
     "data": {
      "text/plain": [
       "7.874"
      ]
     },
     "metadata": {},
     "output_type": "display_data"
    },
    {
     "data": {
      "text/plain": [
       "4"
      ]
     },
     "metadata": {},
     "output_type": "display_data"
    },
    {
     "ename": "ValueError",
     "evalue": "Invalid energy: [0.1, 0.2]",
     "output_type": "error",
     "traceback": [
      "\u001b[0;31m---------------------------------------------------------------------------\u001b[0m",
      "\u001b[0;31mValueError\u001b[0m                                Traceback (most recent call last)",
      "Cell \u001b[0;32mIn[10], line 6\u001b[0m\n\u001b[1;32m      4\u001b[0m iron\u001b[38;5;241m.\u001b[39mdensity\u001b[38;5;241m=\u001b[39m \u001b[38;5;241m4\u001b[39m\n\u001b[1;32m      5\u001b[0m display(iron\u001b[38;5;241m.\u001b[39m_density)\n\u001b[0;32m----> 6\u001b[0m \u001b[43miron\u001b[49m\u001b[38;5;241;43m.\u001b[39;49m\u001b[43mget_mass_atten_coeff\u001b[49m\u001b[43m(\u001b[49m\u001b[43m[\u001b[49m\u001b[38;5;241;43m.1\u001b[39;49m\u001b[43m,\u001b[49m\u001b[38;5;241;43m.2\u001b[39;49m\u001b[43m]\u001b[49m\u001b[43m)\u001b[49m\n",
      "File \u001b[0;32m~/Desktop/github/ZapMeNot/samples/../zapmenot/material.py:160\u001b[0m, in \u001b[0;36mMaterial.get_mass_atten_coeff\u001b[0;34m(self, energy)\u001b[0m\n\u001b[1;32m    142\u001b[0m \u001b[38;5;250m\u001b[39m\u001b[38;5;124mr\u001b[39m\u001b[38;5;124;03m\"\"\"Calculates the mass attenuation coefficient at the given energy\u001b[39;00m\n\u001b[1;32m    143\u001b[0m \n\u001b[1;32m    144\u001b[0m \u001b[38;5;124;03mParameters\u001b[39;00m\n\u001b[0;32m   (...)\u001b[0m\n\u001b[1;32m    157\u001b[0m \u001b[38;5;124;03m    The mass attenuation coefficient in cm\\ :sup:`2`/g\u001b[39;00m\n\u001b[1;32m    158\u001b[0m \u001b[38;5;124;03m\"\"\"\u001b[39;00m\n\u001b[1;32m    159\u001b[0m \u001b[38;5;28;01mif\u001b[39;00m \u001b[38;5;129;01mnot\u001b[39;00m \u001b[38;5;28misinstance\u001b[39m(energy, numbers\u001b[38;5;241m.\u001b[39mNumber):\n\u001b[0;32m--> 160\u001b[0m     \u001b[38;5;28;01mraise\u001b[39;00m \u001b[38;5;167;01mValueError\u001b[39;00m(\u001b[38;5;124m\"\u001b[39m\u001b[38;5;124mInvalid energy: \u001b[39m\u001b[38;5;124m\"\u001b[39m \u001b[38;5;241m+\u001b[39m \u001b[38;5;28mstr\u001b[39m(energy))\n\u001b[1;32m    162\u001b[0m \u001b[38;5;28;01mif\u001b[39;00m (energy \u001b[38;5;241m<\u001b[39m \u001b[38;5;28mself\u001b[39m\u001b[38;5;241m.\u001b[39m_atten_energy_bins[\u001b[38;5;241m0\u001b[39m]) \u001b[38;5;129;01mor\u001b[39;00m \\\n\u001b[1;32m    163\u001b[0m         (energy \u001b[38;5;241m>\u001b[39m \u001b[38;5;28mself\u001b[39m\u001b[38;5;241m.\u001b[39m_atten_energy_bins[\u001b[38;5;241m-\u001b[39m\u001b[38;5;241m1\u001b[39m]):\n\u001b[1;32m    164\u001b[0m     \u001b[38;5;28;01mraise\u001b[39;00m \u001b[38;5;167;01mValueError\u001b[39;00m(\u001b[38;5;124m\"\u001b[39m\u001b[38;5;124mPhoton energy is out of range\u001b[39m\u001b[38;5;124m\"\u001b[39m)\n",
      "\u001b[0;31mValueError\u001b[0m: Invalid energy: [0.1, 0.2]"
     ]
    }
   ],
   "source": [
    "iron = material.Material('iron')\n",
    "copper = material.Material('copper')\n",
    "display(iron._density)\n",
    "iron.density= 4\n",
    "display(iron._density)\n",
    "iron.get_mass_atten_coeff([.1,.2])\n"
   ]
  }
 ],
 "metadata": {
  "kernelspec": {
   "display_name": "zapmenot-current",
   "language": "python",
   "name": "python3"
  },
  "language_info": {
   "codemirror_mode": {
    "name": "ipython",
    "version": 3
   },
   "file_extension": ".py",
   "mimetype": "text/x-python",
   "name": "python",
   "nbconvert_exporter": "python",
   "pygments_lexer": "ipython3",
   "version": "3.10.16"
  }
 },
 "nbformat": 4,
 "nbformat_minor": 5
}
