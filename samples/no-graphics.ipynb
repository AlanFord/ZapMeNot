{
 "cells": [
  {
   "cell_type": "markdown",
   "id": "d237fe39",
   "metadata": {},
   "source": [
    "# Sample ZapMeNot Calculation Without Graphics"
   ]
  },
  {
   "cell_type": "markdown",
   "id": "4ea4b291",
   "metadata": {},
   "source": [
    "# **Import packages**\n",
    "The Python packages required by this notebook are imported. The package and Python interpreter versions are printed to ensure analysis reproducibility. "
   ]
  },
  {
   "cell_type": "code",
   "execution_count": 4,
   "id": "270fae73-4468-47da-a38b-d0e9cc747c07",
   "metadata": {},
   "outputs": [],
   "source": [
    "import sys\n",
    "sys.path.insert(1,'../../../..')\n",
    "from zapmenot import model,source,shield,detector,material\n"
   ]
  },
  {
   "cell_type": "code",
   "execution_count": null,
   "id": "378ff875",
   "metadata": {},
   "outputs": [
    {
     "name": "stdout",
     "output_type": "stream",
     "text": [
      "The exposure is  104.16306300600024  mR/hr\n"
     ]
    }
   ],
   "source": [
    "sample_sink = model.Model()\n",
    "\n",
    "# create the source\n",
    "a_source = source.PointSource(x=0, y=0, z=0)\n",
    "a_source.add_isotope_curies('Co-60',2.1)\n",
    "a_source.add_isotope_curies('Cs-137',0.3)\n",
    "sample_sink.add_source(a_source)\n",
    "\n",
    "# define the location where the dose will be calculated\n",
    "exposure_detector = detector.Detector(x=200, y=40, z=40)\n",
    "sample_sink.add_detector(exposure_detector)\n",
    "\n",
    "# define a shield and add it to the model\n",
    "first_shield = shield.SemiInfiniteXSlab('concrete', x_start=12, x_end=32.1)\n",
    "sample_sink.add_shield(first_shield)\n",
    "\n",
    "# define a second shield and add it to the model\n",
    "second_shield = shield.SemiInfiniteXSlab('iron', x_start=32.1, x_end=33.1)\n",
    "sample_sink.add_shield(second_shield)\n",
    "\n",
    "# declare which shield material will be used for buildup factor calculations\n",
    "buildup_factor_material = material.Material('iron')\n",
    "sample_sink.set_buildup_factor_material(buildup_factor_material)\n",
    "\n",
    "# (optionally) declare a material to fill all non-defined regions\n",
    "sample_sink.set_filler_material('air')\n",
    "\n",
    "# calculate exposure in mR/hr\n",
    "exposure = sample_sink.calculate_exposure()\n",
    "print('The exposure is ', exposure, ' mR/hr')\n"
   ]
  }
 ],
 "metadata": {
  "kernelspec": {
   "display_name": "Python 3 (ipykernel)",
   "language": "python",
   "name": "python3"
  },
  "language_info": {
   "codemirror_mode": {
    "name": "ipython",
    "version": 3
   },
   "file_extension": ".py",
   "mimetype": "text/x-python",
   "name": "python",
   "nbconvert_exporter": "python",
   "pygments_lexer": "ipython3",
   "version": "3.10.16"
  }
 },
 "nbformat": 4,
 "nbformat_minor": 5
}
